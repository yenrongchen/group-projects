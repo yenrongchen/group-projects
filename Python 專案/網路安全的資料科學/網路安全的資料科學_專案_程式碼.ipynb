{
  "cells": [
    {
      "cell_type": "markdown",
      "source": [
        "##網路安全的資料科學--專案 Project\n",
        "\n",
        "系級: 資管三乙\n",
        "\n",
        "姓名: 陳彥融\n",
        "\n",
        "學號: 110306018\n",
        "\n",
        "專案標題: Spam mail 偵測小助手\n"
      ],
      "metadata": {
        "id": "56MbRuwkp5zs"
      }
    },
    {
      "cell_type": "markdown",
      "source": [
        "####讀取資料"
      ],
      "metadata": {
        "id": "utJbNe-bqwUk"
      }
    },
    {
      "cell_type": "code",
      "execution_count": null,
      "metadata": {
        "id": "bgI-Juw4ooMi"
      },
      "outputs": [],
      "source": [
        "# 讀取資料\n",
        "import pandas as pd\n",
        "raw_data = pd.read_csv(\"https://bit.ly/4bZlFBe\")"
      ]
    },
    {
      "cell_type": "markdown",
      "source": [
        "####資料前處理"
      ],
      "metadata": {
        "id": "-OpwBIr4q4UP"
      }
    },
    {
      "cell_type": "code",
      "execution_count": null,
      "metadata": {
        "id": "AFJzvAHDrLUS"
      },
      "outputs": [],
      "source": [
        "# 資料清理\n",
        "raw_data = raw_data.dropna()\n",
        "\n",
        "# 合併主旨與內容欄位\n",
        "raw_data[\"text\"] = raw_data[\"subject\"] + \" \" + raw_data[\"message\"]\n",
        "raw_data = raw_data[[\"text\", \"label\"]]"
      ]
    },
    {
      "cell_type": "code",
      "execution_count": null,
      "metadata": {
        "id": "e3o0g3M8AQHn"
      },
      "outputs": [],
      "source": [
        "# 轉小寫與清除標點符號(非單字與非空白的字符)\n",
        "import re\n",
        "\n",
        "def preprocess(text):\n",
        "    text = text.lower()\n",
        "    text = re.sub(r'[^\\w\\s]', '', text)\n",
        "    text = text.replace(\"_\", \"\")\n",
        "    return text\n",
        "\n",
        "data = raw_data.copy()\n",
        "data[\"text\"] = raw_data[\"text\"].apply(preprocess)"
      ]
    },
    {
      "cell_type": "markdown",
      "source": [
        "####計算 class weight"
      ],
      "metadata": {
        "id": "17aBSV4NreHf"
      }
    },
    {
      "cell_type": "code",
      "execution_count": null,
      "metadata": {
        "id": "gyIjrLqoFDl4",
        "colab": {
          "base_uri": "https://localhost:8080/"
        },
        "outputId": "ea5f0aac-7d20-4173-ea11-20c952ea296c"
      },
      "outputs": [
        {
          "output_type": "stream",
          "name": "stdout",
          "text": [
            "Negative samples: 2363\n",
            "Positive samples: 468\n",
            "Total samples: 2831\n"
          ]
        }
      ],
      "source": [
        "# 因為兩類別資料量沒有很平均，所以需計算 class weight\n",
        "import numpy as np\n",
        "\n",
        "neg, pos = np.bincount(data[\"label\"])\n",
        "total = neg + pos\n",
        "print(f\"Negative samples: {neg}\")  # 正常郵件\n",
        "print(f\"Positive samples: {pos}\")  # 垃圾郵件\n",
        "print(f\"Total samples: {total}\")\n",
        "\n",
        "weight_for_0 = (1 / neg) * (total / 2.0)\n",
        "weight_for_1 = (1 / pos) * (total / 2.0)\n",
        "\n",
        "class_weight = {0: weight_for_0, 1: weight_for_1}"
      ]
    },
    {
      "cell_type": "markdown",
      "source": [
        "####載入模型分詞器"
      ],
      "metadata": {
        "id": "yGsbPFTbwrMz"
      }
    },
    {
      "cell_type": "code",
      "execution_count": null,
      "metadata": {
        "colab": {
          "base_uri": "https://localhost:8080/",
          "height": 272,
          "referenced_widgets": [
            "7b65935687de466fbe75222958d12968",
            "d451e32b010b4031a4ad912474ddffea",
            "39a414205f36481399376048c72e9fda",
            "f6837041744048b688714a51a82bdffc",
            "9aa6f271e9a14754996817b9f8c22929",
            "a05dee7baa3b4849adac563e67f4f6b7",
            "f6cc5e58f5054cd8be66ec2b8d2349a0",
            "3b1a2db6185b434c9550a404ab0cac04",
            "33e544fa097949f8897aea8262067304",
            "7d1a0db9039a4bc58883e5152ade60d7",
            "974c39ee8f9b4e24892e73defe2c531e",
            "5778ee83aae54b328081ee7f3c542eed",
            "8dba7e2a989044ae8c6ae385a988f94d",
            "e6399160fc2e4fe2b6a20286280de55e",
            "f66dee3597704790a6a547324b4eb7a6",
            "f4403f94f7c542de8fda5ed0d7189b3d",
            "cb26151b20e84c898b112a6750927215",
            "00929553e2424cf689c4f90ca1e96484",
            "3ad477e1e34440bc91cb86388934765b",
            "67d29d8933674834ab01ea769d964a2c",
            "d4aed78607434f75a597f37d695599e2",
            "7b6fcc701c534946a33986adff53f865",
            "fcc1f2cb8c6b45f6b74547704eb87661",
            "af5f166e5a154256b00a854c78492854",
            "2963d8c8bbf7436289ea359bef0b46be",
            "208074776a6c4e548325670d76594d78",
            "54550f30d5954ccf89dde24e68b37cb7",
            "ffdfc386795241909f6a06a1337c5a34",
            "ae6b9c2673e747dc8d56fd8723713f27",
            "34705d9f5b5b47d08b39424495b4bdfd",
            "fcec472a992245f2863b1c7b5b1998b7",
            "0b090f8f31da4be5b27f11eedfbc239f",
            "c8b07e7a8a864eb7bd19d67a9e69176e"
          ]
        },
        "id": "r15OrnVXpxvj",
        "outputId": "ce477056-468b-4d47-eba9-b1cad306d436"
      },
      "outputs": [
        {
          "output_type": "stream",
          "name": "stderr",
          "text": [
            "/usr/local/lib/python3.10/dist-packages/huggingface_hub/utils/_token.py:89: UserWarning: \n",
            "The secret `HF_TOKEN` does not exist in your Colab secrets.\n",
            "To authenticate with the Hugging Face Hub, create a token in your settings tab (https://huggingface.co/settings/tokens), set it as secret in your Google Colab and restart your session.\n",
            "You will be able to reuse this secret in all of your notebooks.\n",
            "Please note that authentication is recommended but still optional to access public models or datasets.\n",
            "  warnings.warn(\n"
          ]
        },
        {
          "output_type": "display_data",
          "data": {
            "text/plain": [
              "tokenizer_config.json:   0%|          | 0.00/48.0 [00:00<?, ?B/s]"
            ],
            "application/vnd.jupyter.widget-view+json": {
              "version_major": 2,
              "version_minor": 0,
              "model_id": "7b65935687de466fbe75222958d12968"
            }
          },
          "metadata": {}
        },
        {
          "output_type": "stream",
          "name": "stderr",
          "text": [
            "/usr/local/lib/python3.10/dist-packages/huggingface_hub/file_download.py:1132: FutureWarning: `resume_download` is deprecated and will be removed in version 1.0.0. Downloads always resume when possible. If you want to force a new download, use `force_download=True`.\n",
            "  warnings.warn(\n"
          ]
        },
        {
          "output_type": "display_data",
          "data": {
            "text/plain": [
              "config.json:   0%|          | 0.00/629 [00:00<?, ?B/s]"
            ],
            "application/vnd.jupyter.widget-view+json": {
              "version_major": 2,
              "version_minor": 0,
              "model_id": "5778ee83aae54b328081ee7f3c542eed"
            }
          },
          "metadata": {}
        },
        {
          "output_type": "display_data",
          "data": {
            "text/plain": [
              "vocab.txt:   0%|          | 0.00/232k [00:00<?, ?B/s]"
            ],
            "application/vnd.jupyter.widget-view+json": {
              "version_major": 2,
              "version_minor": 0,
              "model_id": "fcc1f2cb8c6b45f6b74547704eb87661"
            }
          },
          "metadata": {}
        }
      ],
      "source": [
        "from transformers import AutoTokenizer\n",
        "\n",
        "checkpoint = \"distilbert/distilbert-base-uncased-finetuned-sst-2-english\"\n",
        "\n",
        "tokenizer = AutoTokenizer.from_pretrained(checkpoint)"
      ]
    },
    {
      "cell_type": "markdown",
      "source": [
        "####將資料轉為 dataset"
      ],
      "metadata": {
        "id": "cFNpCcajw0Fi"
      }
    },
    {
      "cell_type": "code",
      "execution_count": null,
      "metadata": {
        "colab": {
          "base_uri": "https://localhost:8080/"
        },
        "collapsed": true,
        "id": "M5lBucOIpxi1",
        "outputId": "74df90ee-d671-48d5-c0fe-e5799ef491f0"
      },
      "outputs": [
        {
          "output_type": "stream",
          "name": "stdout",
          "text": [
            "Collecting datasets\n",
            "  Downloading datasets-2.19.2-py3-none-any.whl (542 kB)\n",
            "\u001b[2K     \u001b[90m━━━━━━━━━━━━━━━━━━━━━━━━━━━━━━━━━━━━━━━━\u001b[0m \u001b[32m542.1/542.1 kB\u001b[0m \u001b[31m12.6 MB/s\u001b[0m eta \u001b[36m0:00:00\u001b[0m\n",
            "\u001b[?25hRequirement already satisfied: filelock in /usr/local/lib/python3.10/dist-packages (from datasets) (3.14.0)\n",
            "Requirement already satisfied: numpy>=1.17 in /usr/local/lib/python3.10/dist-packages (from datasets) (1.25.2)\n",
            "Requirement already satisfied: pyarrow>=12.0.0 in /usr/local/lib/python3.10/dist-packages (from datasets) (14.0.2)\n",
            "Requirement already satisfied: pyarrow-hotfix in /usr/local/lib/python3.10/dist-packages (from datasets) (0.6)\n",
            "Collecting dill<0.3.9,>=0.3.0 (from datasets)\n",
            "  Downloading dill-0.3.8-py3-none-any.whl (116 kB)\n",
            "\u001b[2K     \u001b[90m━━━━━━━━━━━━━━━━━━━━━━━━━━━━━━━━━━━━━━━━\u001b[0m \u001b[32m116.3/116.3 kB\u001b[0m \u001b[31m19.9 MB/s\u001b[0m eta \u001b[36m0:00:00\u001b[0m\n",
            "\u001b[?25hRequirement already satisfied: pandas in /usr/local/lib/python3.10/dist-packages (from datasets) (2.0.3)\n",
            "Collecting requests>=2.32.1 (from datasets)\n",
            "  Downloading requests-2.32.3-py3-none-any.whl (64 kB)\n",
            "\u001b[2K     \u001b[90m━━━━━━━━━━━━━━━━━━━━━━━━━━━━━━━━━━━━━━━━\u001b[0m \u001b[32m64.9/64.9 kB\u001b[0m \u001b[31m10.2 MB/s\u001b[0m eta \u001b[36m0:00:00\u001b[0m\n",
            "\u001b[?25hRequirement already satisfied: tqdm>=4.62.1 in /usr/local/lib/python3.10/dist-packages (from datasets) (4.66.4)\n",
            "Collecting xxhash (from datasets)\n",
            "  Downloading xxhash-3.4.1-cp310-cp310-manylinux_2_17_x86_64.manylinux2014_x86_64.whl (194 kB)\n",
            "\u001b[2K     \u001b[90m━━━━━━━━━━━━━━━━━━━━━━━━━━━━━━━━━━━━━━━━\u001b[0m \u001b[32m194.1/194.1 kB\u001b[0m \u001b[31m17.7 MB/s\u001b[0m eta \u001b[36m0:00:00\u001b[0m\n",
            "\u001b[?25hCollecting multiprocess (from datasets)\n",
            "  Downloading multiprocess-0.70.16-py310-none-any.whl (134 kB)\n",
            "\u001b[2K     \u001b[90m━━━━━━━━━━━━━━━━━━━━━━━━━━━━━━━━━━━━━━━━\u001b[0m \u001b[32m134.8/134.8 kB\u001b[0m \u001b[31m19.6 MB/s\u001b[0m eta \u001b[36m0:00:00\u001b[0m\n",
            "\u001b[?25hRequirement already satisfied: fsspec[http]<=2024.3.1,>=2023.1.0 in /usr/local/lib/python3.10/dist-packages (from datasets) (2023.6.0)\n",
            "Requirement already satisfied: aiohttp in /usr/local/lib/python3.10/dist-packages (from datasets) (3.9.5)\n",
            "Requirement already satisfied: huggingface-hub>=0.21.2 in /usr/local/lib/python3.10/dist-packages (from datasets) (0.23.3)\n",
            "Requirement already satisfied: packaging in /usr/local/lib/python3.10/dist-packages (from datasets) (24.1)\n",
            "Requirement already satisfied: pyyaml>=5.1 in /usr/local/lib/python3.10/dist-packages (from datasets) (6.0.1)\n",
            "Requirement already satisfied: aiosignal>=1.1.2 in /usr/local/lib/python3.10/dist-packages (from aiohttp->datasets) (1.3.1)\n",
            "Requirement already satisfied: attrs>=17.3.0 in /usr/local/lib/python3.10/dist-packages (from aiohttp->datasets) (23.2.0)\n",
            "Requirement already satisfied: frozenlist>=1.1.1 in /usr/local/lib/python3.10/dist-packages (from aiohttp->datasets) (1.4.1)\n",
            "Requirement already satisfied: multidict<7.0,>=4.5 in /usr/local/lib/python3.10/dist-packages (from aiohttp->datasets) (6.0.5)\n",
            "Requirement already satisfied: yarl<2.0,>=1.0 in /usr/local/lib/python3.10/dist-packages (from aiohttp->datasets) (1.9.4)\n",
            "Requirement already satisfied: async-timeout<5.0,>=4.0 in /usr/local/lib/python3.10/dist-packages (from aiohttp->datasets) (4.0.3)\n",
            "Requirement already satisfied: typing-extensions>=3.7.4.3 in /usr/local/lib/python3.10/dist-packages (from huggingface-hub>=0.21.2->datasets) (4.12.2)\n",
            "Requirement already satisfied: charset-normalizer<4,>=2 in /usr/local/lib/python3.10/dist-packages (from requests>=2.32.1->datasets) (3.3.2)\n",
            "Requirement already satisfied: idna<4,>=2.5 in /usr/local/lib/python3.10/dist-packages (from requests>=2.32.1->datasets) (3.7)\n",
            "Requirement already satisfied: urllib3<3,>=1.21.1 in /usr/local/lib/python3.10/dist-packages (from requests>=2.32.1->datasets) (2.0.7)\n",
            "Requirement already satisfied: certifi>=2017.4.17 in /usr/local/lib/python3.10/dist-packages (from requests>=2.32.1->datasets) (2024.6.2)\n",
            "Requirement already satisfied: python-dateutil>=2.8.2 in /usr/local/lib/python3.10/dist-packages (from pandas->datasets) (2.8.2)\n",
            "Requirement already satisfied: pytz>=2020.1 in /usr/local/lib/python3.10/dist-packages (from pandas->datasets) (2023.4)\n",
            "Requirement already satisfied: tzdata>=2022.1 in /usr/local/lib/python3.10/dist-packages (from pandas->datasets) (2024.1)\n",
            "Requirement already satisfied: six>=1.5 in /usr/local/lib/python3.10/dist-packages (from python-dateutil>=2.8.2->pandas->datasets) (1.16.0)\n",
            "Installing collected packages: xxhash, requests, dill, multiprocess, datasets\n",
            "  Attempting uninstall: requests\n",
            "    Found existing installation: requests 2.31.0\n",
            "    Uninstalling requests-2.31.0:\n",
            "      Successfully uninstalled requests-2.31.0\n",
            "\u001b[31mERROR: pip's dependency resolver does not currently take into account all the packages that are installed. This behaviour is the source of the following dependency conflicts.\n",
            "google-colab 1.0.0 requires requests==2.31.0, but you have requests 2.32.3 which is incompatible.\u001b[0m\u001b[31m\n",
            "\u001b[0mSuccessfully installed datasets-2.19.2 dill-0.3.8 multiprocess-0.70.16 requests-2.32.3 xxhash-3.4.1\n"
          ]
        }
      ],
      "source": [
        "!pip install datasets"
      ]
    },
    {
      "cell_type": "code",
      "execution_count": null,
      "metadata": {
        "colab": {
          "base_uri": "https://localhost:8080/"
        },
        "id": "-WPPukFArrwY",
        "outputId": "a987b270-1326-411c-9963-124d94b85c5c"
      },
      "outputs": [
        {
          "output_type": "execute_result",
          "data": {
            "text/plain": [
              "Dataset({\n",
              "    features: ['text', 'label'],\n",
              "    num_rows: 2831\n",
              "})"
            ]
          },
          "metadata": {},
          "execution_count": 7
        }
      ],
      "source": [
        "from datasets import Dataset\n",
        "dataset = Dataset.from_pandas(data)\n",
        "dataset = dataset.remove_columns(\"__index_level_0__\")\n",
        "dataset"
      ]
    },
    {
      "cell_type": "markdown",
      "source": [
        "####tokenization"
      ],
      "metadata": {
        "id": "U-0690Rgw_-I"
      }
    },
    {
      "cell_type": "code",
      "execution_count": null,
      "metadata": {
        "id": "WFSdcsJHpxqF"
      },
      "outputs": [],
      "source": [
        "def tokenize(data):\n",
        "    result = tokenizer(data[\"text\"], truncation = True)\n",
        "    return result"
      ]
    },
    {
      "cell_type": "code",
      "execution_count": null,
      "metadata": {
        "colab": {
          "base_uri": "https://localhost:8080/",
          "height": 118,
          "referenced_widgets": [
            "b0e2598a7b7042bfb9c33743b1ec76f6",
            "3192e44c2f51483797595d5932b9f73d",
            "99f82323a737418bbe77824f1d7c67f1",
            "2ca21d47d74a4e10880031e4c2f0c5e1",
            "c2fc3a0fe17c4aac8bfabfdbd1f40375",
            "8c3d83eb83254078a72497505b620bc4",
            "4c3714d32890413caa6a2fb530cebe78",
            "7ba0d7142548451dacdc16eb5136fb2f",
            "b7168472df374230ad93a800ea29eda3",
            "93b4100b84bd4598a42ef493aff9f6f5",
            "50d1107ed63e401cadd11a4f2c552caf"
          ]
        },
        "id": "jyxn5hzIrjBl",
        "outputId": "1d582e2e-2dc4-4a37-cd81-370285d8fa25"
      },
      "outputs": [
        {
          "output_type": "display_data",
          "data": {
            "text/plain": [
              "Map:   0%|          | 0/2831 [00:00<?, ? examples/s]"
            ],
            "application/vnd.jupyter.widget-view+json": {
              "version_major": 2,
              "version_minor": 0,
              "model_id": "b0e2598a7b7042bfb9c33743b1ec76f6"
            }
          },
          "metadata": {}
        },
        {
          "output_type": "execute_result",
          "data": {
            "text/plain": [
              "Dataset({\n",
              "    features: ['text', 'label', 'input_ids', 'attention_mask'],\n",
              "    num_rows: 2831\n",
              "})"
            ]
          },
          "metadata": {},
          "execution_count": 9
        }
      ],
      "source": [
        "# tokenize\n",
        "tokenized_dataset = dataset.map(tokenize, batched = True)\n",
        "tokenized_dataset"
      ]
    },
    {
      "cell_type": "markdown",
      "source": [
        "####切分資料"
      ],
      "metadata": {
        "id": "BsRaP1zGxVmz"
      }
    },
    {
      "cell_type": "code",
      "execution_count": null,
      "metadata": {
        "colab": {
          "base_uri": "https://localhost:8080/"
        },
        "id": "qxk86t5BoEmi",
        "outputId": "3dc21482-740f-4484-d2ab-3cf5184f9fc2"
      },
      "outputs": [
        {
          "output_type": "execute_result",
          "data": {
            "text/plain": [
              "DatasetDict({\n",
              "    train: Dataset({\n",
              "        features: ['text', 'label', 'input_ids', 'attention_mask'],\n",
              "        num_rows: 2037\n",
              "    })\n",
              "    test: Dataset({\n",
              "        features: ['text', 'label', 'input_ids', 'attention_mask'],\n",
              "        num_rows: 284\n",
              "    })\n",
              "    validation: Dataset({\n",
              "        features: ['text', 'label', 'input_ids', 'attention_mask'],\n",
              "        num_rows: 510\n",
              "    })\n",
              "})"
            ]
          },
          "metadata": {},
          "execution_count": 10
        }
      ],
      "source": [
        "# 將資料集切為訓練、驗證和測試三個資料集\n",
        "from datasets import DatasetDict\n",
        "\n",
        "train_val_test = tokenized_dataset.train_test_split(test_size = 0.1, seed = 100)\n",
        "train_val = train_val_test[\"train\"].train_test_split(test_size = 0.2, seed = 100)\n",
        "\n",
        "final_dataset = DatasetDict({\"train\": train_val[\"train\"], \"test\": train_val_test[\"test\"], \"validation\": train_val[\"test\"]})\n",
        "final_dataset"
      ]
    },
    {
      "cell_type": "markdown",
      "source": [
        "####模型相關參數設定"
      ],
      "metadata": {
        "id": "xU-r4gr8xp4W"
      }
    },
    {
      "cell_type": "code",
      "execution_count": null,
      "metadata": {
        "id": "rCIpT6YUt83i"
      },
      "outputs": [],
      "source": [
        "# 設置DataCollator\n",
        "from transformers import DataCollatorWithPadding\n",
        "\n",
        "data_collator = DataCollatorWithPadding(tokenizer = tokenizer, return_tensors = \"tf\")"
      ]
    },
    {
      "cell_type": "code",
      "execution_count": null,
      "metadata": {
        "id": "VhUsKGgM1f-k"
      },
      "outputs": [],
      "source": [
        "from transformers import create_optimizer\n",
        "import tensorflow as tf\n",
        "\n",
        "# label 和 id 的映射關係\n",
        "id2label = {0: \"NEGATIVE\", 1: \"POSITIVE\"}\n",
        "label2id = {\"NEGATIVE\": 0, \"POSITIVE\": 1}\n",
        "\n",
        "batch_size = 32\n",
        "num_epochs = 15\n",
        "\n",
        "# optimizer\n",
        "batches_per_epoch = len(final_dataset[\"train\"]) // batch_size\n",
        "total_train_steps = int(batches_per_epoch * num_epochs)\n",
        "optimizer, schedule = create_optimizer(init_lr = 2e-5, num_warmup_steps = 0, num_train_steps = total_train_steps)\n",
        "\n",
        "# early-stopping callback\n",
        "earlystop = tf.keras.callbacks.EarlyStopping(monitor = \"val_loss\", min_delta = 0.001, patience = 3)\n",
        "callback = [earlystop]"
      ]
    },
    {
      "cell_type": "markdown",
      "source": [
        "####載入模型與製作資料集"
      ],
      "metadata": {
        "id": "4b3rzDcL2pVm"
      }
    },
    {
      "cell_type": "code",
      "execution_count": null,
      "metadata": {
        "colab": {
          "base_uri": "https://localhost:8080/",
          "height": 118,
          "referenced_widgets": [
            "f7476b4c08914095bf230b332101a3d0",
            "f6c97e8b57664ec5bdba31a64cb00bc8",
            "d2a005d013ee44ba84f5c1eaf744738c",
            "65820329de814999a0635876a0553fc9",
            "351e653a854c488ab3e79c1fa0e60d13",
            "7f002edee96e4b958662e49c67949494",
            "925c56bd7d784d78bb61d1c087349bfd",
            "7794cb483b3643b5adb5b09fa99276bd",
            "1518fde281be4a61a3d77e35e3c9a1ae",
            "ce78ee8ed97341c7b666f4971800f452",
            "6972587996784331a519e1dc8488d5d8"
          ]
        },
        "id": "BzD9B1rzpW2S",
        "outputId": "a784c15a-6c6d-4922-c3b8-709ceead69fe"
      },
      "outputs": [
        {
          "output_type": "display_data",
          "data": {
            "text/plain": [
              "model.safetensors:   0%|          | 0.00/268M [00:00<?, ?B/s]"
            ],
            "application/vnd.jupyter.widget-view+json": {
              "version_major": 2,
              "version_minor": 0,
              "model_id": "f7476b4c08914095bf230b332101a3d0"
            }
          },
          "metadata": {}
        },
        {
          "output_type": "stream",
          "name": "stderr",
          "text": [
            "All PyTorch model weights were used when initializing TFDistilBertForSequenceClassification.\n",
            "\n",
            "All the weights of TFDistilBertForSequenceClassification were initialized from the PyTorch model.\n",
            "If your task is similar to the task the model of the checkpoint was trained on, you can already use TFDistilBertForSequenceClassification for predictions without further training.\n"
          ]
        }
      ],
      "source": [
        "from transformers import TFAutoModelForSequenceClassification\n",
        "\n",
        "model = TFAutoModelForSequenceClassification.from_pretrained(checkpoint, num_labels = 2, id2label = id2label, label2id = label2id)"
      ]
    },
    {
      "cell_type": "code",
      "execution_count": null,
      "metadata": {
        "id": "kPy92iZt21R4"
      },
      "outputs": [],
      "source": [
        "# 製作資料集\n",
        "tf_train_set = model.prepare_tf_dataset(\n",
        "    final_dataset[\"train\"],\n",
        "    shuffle = True,\n",
        "    batch_size = batch_size,\n",
        "    collate_fn = data_collator,\n",
        ")\n",
        "\n",
        "tf_test_set = model.prepare_tf_dataset(\n",
        "    final_dataset[\"test\"],\n",
        "    shuffle = False,\n",
        "    batch_size = batch_size,\n",
        "    collate_fn = data_collator,\n",
        ")\n",
        "\n",
        "tf_val_set = model.prepare_tf_dataset(\n",
        "    final_dataset[\"validation\"],\n",
        "    shuffle = False,\n",
        "    batch_size = batch_size,\n",
        "    collate_fn = data_collator,\n",
        ")"
      ]
    },
    {
      "cell_type": "markdown",
      "source": [
        "####開始 fine-tune 模型"
      ],
      "metadata": {
        "id": "5OSqUMdG2jzu"
      }
    },
    {
      "cell_type": "code",
      "execution_count": null,
      "metadata": {
        "colab": {
          "base_uri": "https://localhost:8080/"
        },
        "id": "e8KcQ1zK3Fal",
        "outputId": "d74e48ce-d536-4e6e-b558-20b064c6d881"
      },
      "outputs": [
        {
          "output_type": "stream",
          "name": "stdout",
          "text": [
            "Epoch 1/15\n",
            "63/63 [==============================] - 105s 1s/step - loss: 0.2977 - accuracy: 0.9142 - val_loss: 0.0609 - val_accuracy: 0.9843\n",
            "Epoch 2/15\n",
            "63/63 [==============================] - 74s 1s/step - loss: 0.0302 - accuracy: 0.9896 - val_loss: 0.0496 - val_accuracy: 0.9863\n",
            "Epoch 3/15\n",
            "63/63 [==============================] - 74s 1s/step - loss: 0.0074 - accuracy: 0.9985 - val_loss: 0.0401 - val_accuracy: 0.9882\n",
            "Epoch 4/15\n",
            "63/63 [==============================] - 74s 1s/step - loss: 0.0036 - accuracy: 0.9990 - val_loss: 0.0371 - val_accuracy: 0.9902\n",
            "Epoch 5/15\n",
            "63/63 [==============================] - 74s 1s/step - loss: 0.0015 - accuracy: 0.9995 - val_loss: 0.0356 - val_accuracy: 0.9902\n",
            "Epoch 6/15\n",
            "63/63 [==============================] - 74s 1s/step - loss: 7.8498e-04 - accuracy: 1.0000 - val_loss: 0.0366 - val_accuracy: 0.9902\n",
            "Epoch 7/15\n",
            "63/63 [==============================] - 74s 1s/step - loss: 5.8442e-04 - accuracy: 1.0000 - val_loss: 0.0375 - val_accuracy: 0.9902\n",
            "Epoch 8/15\n",
            "63/63 [==============================] - 74s 1s/step - loss: 4.4719e-04 - accuracy: 1.0000 - val_loss: 0.0383 - val_accuracy: 0.9902\n"
          ]
        }
      ],
      "source": [
        "# compile\n",
        "model.compile(optimizer = optimizer, metrics = [\"accuracy\"])\n",
        "\n",
        "# fine-tune\n",
        "training_proccess = model.fit(x = tf_train_set, validation_data = tf_val_set, epochs = num_epochs, callbacks = callback, class_weight = class_weight)"
      ]
    },
    {
      "cell_type": "markdown",
      "source": [
        "####畫出訓練過程的準確率圖與損失圖"
      ],
      "metadata": {
        "id": "YNzIZ9ND2aCI"
      }
    },
    {
      "cell_type": "code",
      "execution_count": null,
      "metadata": {
        "id": "ICoJfzFKyYpx"
      },
      "outputs": [],
      "source": [
        "import matplotlib.pyplot as plt\n",
        "\n",
        "def plot_process(history, metric):\n",
        "    plt.plot(history.history[metric])\n",
        "    plt.plot(history.history['val_' + metric])\n",
        "    plt.xlabel(\"Epochs\")\n",
        "    plt.ylabel(metric)\n",
        "    plt.legend([metric, 'val_' + metric])"
      ]
    },
    {
      "cell_type": "code",
      "execution_count": null,
      "metadata": {
        "id": "w6EksIW_zSsC",
        "colab": {
          "base_uri": "https://localhost:8080/",
          "height": 701
        },
        "outputId": "6a52aafe-ae5b-40b3-ca86-6e8692279694"
      },
      "outputs": [
        {
          "output_type": "display_data",
          "data": {
            "text/plain": [
              "<Figure size 1600x800 with 2 Axes>"
            ],
            "image/png": "[encoded data removed]"
          },
          "metadata": {}
        }
      ],
      "source": [
        "# 畫出準確率圖與損失圖\n",
        "plt.figure(figsize = (16, 8))\n",
        "\n",
        "plt.subplot(1, 2, 1)\n",
        "plot_process(training_proccess, \"accuracy\")\n",
        "plt.ylim(0.0, 1.0)\n",
        "\n",
        "plt.subplot(1, 2, 2)\n",
        "plot_process(training_proccess, \"loss\")"
      ]
    },
    {
      "cell_type": "markdown",
      "source": [
        "####用測試資料集測試模型的準確率與損失"
      ],
      "metadata": {
        "id": "VyOPAyH53Q28"
      }
    },
    {
      "cell_type": "code",
      "source": [
        "# 測試模型性能\n",
        "test_loss, test_acc = model.evaluate(tf_test_set)\n",
        "print(\"Test Accuracy:\", test_acc)\n",
        "print(\"Test Loss:\", test_loss)"
      ],
      "metadata": {
        "colab": {
          "base_uri": "https://localhost:8080/"
        },
        "id": "F0XrfJsBobkH",
        "outputId": "466f6b59-32bb-4c70-c2d6-2731fc75ec05"
      },
      "execution_count": null,
      "outputs": [
        {
          "output_type": "stream",
          "name": "stdout",
          "text": [
            "9/9 [==============================] - 3s 341ms/step - loss: 0.0236 - accuracy: 0.9894\n",
            "Test Accuracy: 0.9894366264343262\n",
            "Test Loss: 0.023632654920220375\n"
          ]
        }
      ]
    },
    {
      "cell_type": "code",
      "source": [
        "# 使用未 fine-tune 過的預訓練模型來測試，查看 fine-tune 的成效\n",
        "model_org = TFAutoModelForSequenceClassification.from_pretrained(checkpoint, num_labels = 2, id2label = id2label, label2id = label2id)\n",
        "model.compile(optimizer = optimizer, metrics = [\"accuracy\"])\n",
        "\n",
        "test_loss, test_acc = model.evaluate(tf_test_set)\n",
        "print(\"Test Accuracy:\", test_acc)\n",
        "print(\"Test Loss:\", test_loss)"
      ],
      "metadata": {
        "colab": {
          "base_uri": "https://localhost:8080/"
        },
        "id": "bwCPUlVw8qyb",
        "outputId": "fe5e520a-83ed-4cac-ad2b-72d51c5075b6"
      },
      "execution_count": null,
      "outputs": [
        {
          "output_type": "stream",
          "name": "stderr",
          "text": [
            "All PyTorch model weights were used when initializing TFDistilBertForSequenceClassification.\n",
            "\n",
            "All the weights of TFDistilBertForSequenceClassification were initialized from the PyTorch model.\n",
            "If your task is similar to the task the model of the checkpoint was trained on, you can already use TFDistilBertForSequenceClassification for predictions without further training.\n"
          ]
        },
        {
          "output_type": "stream",
          "name": "stdout",
          "text": [
            "9/9 [==============================] - 17s 611ms/step - loss: 1.5733 - accuracy: 0.6162\n",
            "Test Accuracy: 0.6161971688270569\n",
            "Test Loss: 1.5733267068862915\n"
          ]
        }
      ]
    },
    {
      "cell_type": "markdown",
      "source": [
        "####畫出混淆矩陣看分類結果"
      ],
      "metadata": {
        "id": "K-6IoDqP2UOO"
      }
    },
    {
      "cell_type": "code",
      "execution_count": null,
      "metadata": {
        "id": "3rEA_IiUyF22"
      },
      "outputs": [],
      "source": [
        "from sklearn.metrics import confusion_matrix\n",
        "import seaborn as sns\n",
        "\n",
        "def plot_cm(labels, predictions, threshold = 0.5, data_type = \"test\"):\n",
        "    cm = confusion_matrix(labels, predictions > threshold)\n",
        "    plt.figure(figsize = (6, 5))\n",
        "    sns.heatmap(cm, annot = True, fmt = \"d\")\n",
        "    plt.title(\"Confusion matrix on {} data\".format(data_type))\n",
        "    plt.ylabel('Actual label')\n",
        "    plt.xlabel('Predicted label')"
      ]
    },
    {
      "cell_type": "code",
      "source": [
        "# 驗證資料集的混淆矩陣\n",
        "labels = np.array(final_dataset[\"validation\"][\"label\"])\n",
        "raw_pred = model.predict(tf_val_set, batch_size = batch_size)\n",
        "predictions = np.argmax(raw_pred.logits, axis = 1)\n",
        "\n",
        "plot_cm(labels, predictions, data_type = \"validation\")"
      ],
      "metadata": {
        "colab": {
          "base_uri": "https://localhost:8080/",
          "height": 504
        },
        "id": "HwAB0It00RkL",
        "outputId": "a616c346-5d7d-4745-882e-70eb3e40c505"
      },
      "execution_count": null,
      "outputs": [
        {
          "output_type": "stream",
          "name": "stdout",
          "text": [
            "16/16 [==============================] - 6s 343ms/step\n"
          ]
        },
        {
          "output_type": "display_data",
          "data": {
            "text/plain": [
              "<Figure size 600x500 with 2 Axes>"
            ],
            "image/png": "[encoded data removed]"
          },
          "metadata": {}
        }
      ]
    },
    {
      "cell_type": "code",
      "source": [
        "# 測試資料集的混淆矩陣\n",
        "labels = np.array(final_dataset[\"test\"][\"label\"])\n",
        "raw_pred = model.predict(tf_test_set, batch_size = batch_size)\n",
        "predictions = np.argmax(raw_pred.logits, axis = 1)\n",
        "\n",
        "plot_cm(labels, predictions)"
      ],
      "metadata": {
        "colab": {
          "base_uri": "https://localhost:8080/",
          "height": 504
        },
        "id": "yxjNRAyDsY2J",
        "outputId": "61dbc122-2598-40ab-87eb-438e782435d0"
      },
      "execution_count": null,
      "outputs": [
        {
          "output_type": "stream",
          "name": "stdout",
          "text": [
            "9/9 [==============================] - 3s 338ms/step\n"
          ]
        },
        {
          "output_type": "display_data",
          "data": {
            "text/plain": [
              "<Figure size 600x500 with 2 Axes>"
            ],
            "image/png": "[encoded data removed]"
          },
          "metadata": {}
        }
      ]
    },
    {
      "cell_type": "code",
      "execution_count": null,
      "metadata": {
        "id": "TE3G-TNV6v1l",
        "colab": {
          "base_uri": "https://localhost:8080/"
        },
        "outputId": "4daf877e-e591-4aab-ca19-6755e4796eb3"
      },
      "outputs": [
        {
          "output_type": "execute_result",
          "data": {
            "text/plain": [
              "('finetuned_model/tokenizer_config.json',\n",
              " 'finetuned_model/special_tokens_map.json',\n",
              " 'finetuned_model/vocab.txt',\n",
              " 'finetuned_model/added_tokens.json',\n",
              " 'finetuned_model/tokenizer.json')"
            ]
          },
          "metadata": {},
          "execution_count": 16
        }
      ],
      "source": [
        "# 儲存\n",
        "save_directory = \"finetuned_model\"\n",
        "model.save_pretrained(save_directory)\n",
        "tokenizer.save_pretrained(save_directory)"
      ]
    },
    {
      "cell_type": "markdown",
      "source": [
        "####模型使用"
      ],
      "metadata": {
        "id": "wk31gECv3TuT"
      }
    },
    {
      "cell_type": "code",
      "execution_count": null,
      "metadata": {
        "id": "JppI4CwFxMZ3",
        "colab": {
          "base_uri": "https://localhost:8080/"
        },
        "outputId": "d3a3b358-ece7-4203-80bd-eaa3fb6335cc"
      },
      "outputs": [
        {
          "output_type": "stream",
          "name": "stderr",
          "text": [
            "Some layers from the model checkpoint at finetuned_model were not used when initializing TFDistilBertForSequenceClassification: ['dropout_99']\n",
            "- This IS expected if you are initializing TFDistilBertForSequenceClassification from the checkpoint of a model trained on another task or with another architecture (e.g. initializing a BertForSequenceClassification model from a BertForPreTraining model).\n",
            "- This IS NOT expected if you are initializing TFDistilBertForSequenceClassification from the checkpoint of a model that you expect to be exactly identical (initializing a BertForSequenceClassification model from a BertForSequenceClassification model).\n",
            "Some layers of TFDistilBertForSequenceClassification were not initialized from the model checkpoint at finetuned_model and are newly initialized: ['dropout_279']\n",
            "You should probably TRAIN this model on a down-stream task to be able to use it for predictions and inference.\n"
          ]
        },
        {
          "output_type": "stream",
          "name": "stdout",
          "text": [
            "\n",
            "\n",
            "第1筆測試資料:\n"
          ]
        },
        {
          "output_type": "stream",
          "name": "stderr",
          "text": [
            "Token indices sequence length is longer than the specified maximum sequence length for this model (3359 > 512). Running this sequence through the model will result in indexing errors\n"
          ]
        },
        {
          "output_type": "stream",
          "name": "stdout",
          "text": [
            "郵件文字: morphophonemics  slavic languages marta harasowska morphophonemic variability  productivity  and change the case of rusyn 1998  23 x 15  5 cm  xv  266 pages cloth dm 198    approx  us  124  00 isbn 311  015761  6 trends in linguistics  studies and monographs 110 mouton de gruyter  berlin  new york this volume presents an indepth investigation of processes influencing morphophonemic variability  productivity  and change  the author adopts the labovian approach to the study of language and examines both linguistic and extralinguistic factors which bear on language use  bybee s analogybased model of morphology provides the  psychologically real  theoretical framework for representing the linguistic processes under scrutiny  the language chosen for the study is rusyn  a slavic minority language in serbia s autonomous province of vojvodina  sharing historical roots with polish  slovak  and ukrainian  presentday rusyn functions within a language contact area dominated by serbo  croatian  as a microlanguage in a macrolinguistic environment  rusyn offers the ideal microcosm for a study of linguistic variability and change  the data for the study were collected during the course of field work in vojvodina  they are interpreted using  response coincidence analysis   an analytical technique which identifies the  linguistic  groupings in the data and is thus neutral with regard to the  social  groupings apparent in the speech community  what emerges is a unique view of morphophonemics as a transitional level not only between phonology and morphology  but also between phonology  morphology  and semantics  moreover  the examined morphophonemic patterns in rusyn are found to be in the process of change which can indeed be attributed to both linguistic and extralinguistic factors  the findings for rusyn will be of relevance to the study of other linguistic communities  particularly those functioning in language contact areas                                                                         mouton de gruyter walter de gruyter  inc  postfach 30 34 21 200 saw mill river road d10728 berlin hawthorne  ny 10532 germany usa fax   49  0  30 26005351 fax   1 914 7471326 email  mouton  degruyter  de publications by de gruyter can also be ordered via world wide web  http    www  degruyter  com\n",
            "模型分類結果: [{'label': 'Negative', 'score': 0.9998393058776855}]\n",
            "實際類別: NEGATIVE \n",
            "\n",
            "第2筆測試資料:\n",
            "郵件文字: sum  written signs in speech content  length  18171 i  m very grateful to those who responded  with such interesting references  comments and examples  to my query about written signs being transferred to speech  and apologize that i could nt thank everyone individually  those who replied were  agnes roman  aromi  eratos  erin  utoronto  ca  peter jones  jonep  dg13  cec  be  deborah milam berkley  dberkley  u  washington  edu  karen gammelgaard  karen  gammelgaard  easteurorient  uio  no  gail stygall  stygall  u  washington  edu   rebecca larche moreton  becky    mlrlm  vm  cc  olemiss  edu  robert dale  rdale  microsoft  com   karen s  chung   karchung  ccms  ntu  edu  tw  peter  arno coppen  u250005  vm  uci  kun  nl   dr  christian k  nelson   cnelson  vm  cc  purdue  edu  philippe mennecier  ferry  cimrs1  mnhn  fr   e  h  klein  v  d  laaken   klein  let  rug  nl  stephen p spackman  spackman  dfki  unisb  de   john m  jeep   jjeep  miamiu  acs  muohio  edu  bill king  wfking  ccit  arizona  edu  james kirchner  jpkirchner  aol  com  my original posting asked about such sentences as  we used to believe that  real  men did nt show their emotions which i thought could be expressed in speech as  we used to believe that real  in quotation marks  men    or we used to believe that quote real  unquote  men    or by  imitating  double quotation marks with one or two fingers of both hands when pronouncing  real   other examples were the use of the word  period   elvis was the greatest there ever was  period  and  underline    unterstreichen  and s ouligner  to mean  emphasize                                               roman agnes  aromi  eratos  erin  utoronto  ca  just a few exemples from hungarian  1   megirod a leckedet  pont    you  ll write your homework  period   meaning  strict order  no further discussion permitted   2   eljott kati is  zarojelben megjegyzem  nagyon ideges volt      kathy came too   and  i note in parentheses  she was very nervous   meaning  i make a  side  comment                                              jones peter  jonep  dg13  cec  be  the french use  full stop  with even more emphasis  point  a la ligne                                              deborah milam berkley  dberkley  u  washington  edu  this is nt a serious scholarly answer to your query  have you ever heard victor borge s routine on socalled  phonetic punctuation   it s awfully funny  he does it on the video of his 80th birthday celebration at wolf trap in the u  s                                              karen  gammelgaard  easteurorient  uio  no a good introduction to problems of transferring written signs to speech and vice versa is josef vachek  1989   written language revisited  amsterdam  philadelphia  john benjamins  your example with the use of period meaning no more discussion necessary has equivalents in czech and danish  czech   elvis byl nejvetsi zpevak vsech dob  tecka    tecka  period  danish   elvis var tidernes st  rste  punktum   punktum  period                                              gail stygall  stygall  u  washington  edu  author  dillon  george l  title  my words of an other  year  1988 language  english pub  type  journal article  evaluative report  position paper source  college english  v50 n1 p63  73 jan 1988 abstract  considers the conventions of quotation marks   or  perverted commas    and identifies seven uses  including shudder quotes  slang or inappropriate words  and scare quotes  used for attention or emphasis   notes that quotation marks influence meaning and that finding a personal voice entails using language without quotes   mm  subject major  punctuation  subject minor  discourse  analysis  higher  education  plagiarism  semantics  writing  composition identifiers  quotations  voice  rhetoric  word  choice  word  potency  writing  attitudes  writing  style                                               rebecca larche moreton  becky    mlrlm  vm  cc  olemiss  edu  your first example of punctuation that has been put into a spoken sentence is interesting because the quotation marks around  real  in  real  man are the written way of expressing ironic emphasis in the voice that would otherwise be lost in print  then  reading from the page  or pretending to do so  the speaker says  real  quoteunquote  or makes one of the bracketing gestures y ou mention  but i d be willing to bet he also puts the extra stress on the work real  just as he would have done if he had nt said quote  unquote  so the irony is doubly marked  in the other example  in your irrefutable statement about the king  the word period serves as an emphatic sentence particle  this is not the meaning of an actual period  which in print serves simply to show the end of a sentence  there are  then  two different things going on in the two examples  i have heard people who really wanted to cut off further debate say things like  you are not going out tonight  period  period  with the first period on a low pitch and the second one higher and much louder  the second period has emphatic stress  i  e   is higher and louder than the first  which has endof  sentence pitch and a stress  as for other examples  the only ones that come to mind right now are those involving the decimal system  in french  one says  sept virgule trois  for 7  3 just as we say seven point three  this must have parallels in other languages  by the way  since you are interested in this  maybe you d enjoy hearing the phonetic punctuation routines of the danish  born pianist and comedian victor borge  he has a system of indicating punctuation by means of various mouthnoises  usually as rude as possible  which makes for some hilarious patter  it has been a long time since i heard him  but i believe his records are still available                                              robert dale  rdale  microsoft  com  what s your take on the use of the word  parenthetically  as in parenthetically  i should say here that    stretching it a bit further  how about  item  in the following  not at all convinced by this one but just in case   there are some things we should get straight here  item  no smoking in class  item  no eating in class                                                 karen s  chung   karchung  ccms  ntu  edu  tw  this happens when certain words are borrowed from the local dialect   taiwanese   or  southern min    into the standard national language  mandarin  via latin letters to represent the taiwanese sound  e  g  a local variety of lettuce is called in taiwanese e5 a2 chhai3  and perhaps most people call it by its taiwanese name rather than its mandarin name  wo1 ju4  but then it became common to represent the taiwanese term in writing thus  a cai4  people subsequently started pronouncing it like it was written  which is quite unlike the taiwanese compound on which it was based  the same has happened with the taiwanese term for s pringy   in reference e  g to rice   khiu7 became q  this raised the tone from a middle level to high level  there is no middle level tone in mandarin   i can give you a reference on this  hansell  mark  mhansell  carleton  edu    the sino  alphabet  the assimilation of roman letters into the chinese writing system   philadelphia  sino  platonic papers  no  45  may 1994                                              peter  arno coppen  u250005  vm  uci  kun  nl  i think the quotation marks can also be expressed by a characteristic intonation pattern  starting the quoted part with a new tone word  with l  hl intonation   also  pronouncing quotation marks with  say  seems  in some cases  to be appropriate  i think that  say  intelligence   has something to do with it about the origin  in the sixties  seventies  the danish comedian victor borge was rather successful with his  phonetic puntuation   in which he e  g   pronounced  quotation marks with two clicking sounds  accompanied by the finger sign you mentioned  this will surely not be the origin  but i saw many people imitating him since then                                               dr  christian k  nelson   cnelson  vm  cc  purdue  edu  i  m not sure  but think that what you  re interested in might overlap with the phenomenon of  reported speech   which bakhtin and his circle dealt with  perhaps there is a better reference for their work  but the one i  m familiar with is v  n  volosinov s  1973   marxism and the philosophy of language   cambridge  ma  harvard univ  press  l  matejka  i  r titunik  trans    i should note that some believe this book was actually authored by bahktin  but bears volosinov s name for political reasons  anyway  part 3 seems pertinent to your interests                                              philippe mennecier ferry  cimrs1  mnhn  fr the same phenomena exist in french  on a coutume de penser que les vrais hommes  entre guillemets  ne montrent pas leurs e  motions   your example   or the same  by  imitating  double quotation marks with  two  fingers of both hands when pronouncing  vrais hommes   to break off further discussion  we say  as your  period    un point  c  est tout   it s lexicalized  je ne le ferai pas  un point c  est tout   i shall not do that  period  note also  lexicalized   entre parenthe  ses    e  with  grave accent   or  better   soit dit entre parenthe  ses   by the way   in order to express a private comment        soit dit  entre parenthe  ses  il n  est pas tre s malin   by the way  between ourselves  he is not very clever  of course  we can use other expression by irony  like  i said that with points of suspension  avec des points de suspension   but it is not lexicalized                                               e  h  klein  v  d  laaken   klein  let  rug  nl  i can contribute some dutch examples  je gaat vanavond niet weg  punt uit  you go tonight not away  period end   meaning  end of discussion of het vlug genoeg gaat   daar zet ik wat vraagtekens bij  whether it goes fast enough   there i add some question marks   meaning  i  m not to sure about that hij onderstreepte nog eens hoe belangrijk dit was  he underlined once again how important this was  een echte  tussen aanhalingstekens  man   a real  between quotation marks  man een echte man  tussen aanhalingstekens dan   a real man  that is  between quotation marks   tussen twee haakjes  wat doe jij vanavond  between two brackets  what do you tonight   meaning  introducing a question unrelated to the discussion that goes on or has just finished  de boeren  die het  tussen twee haakjes  al gemakkelijker hebben dan vroeger    the farmers  who  between two brackets  have already an easier life than before     meaning  an additional remark  that nevertheless has some importance i heard or read somewhere  do nt know where  do nt know when  that people use also keyboardstrikes in their talk  that would be a modern version of your question  e  g   f7 meaning  i will remember   from wordperfect                                              i seem to recall that the last words of sellar  yateman  spelling from memory    1066 and all that  are  america was now clearly top nation and so history came to a full   i  m not sure what kind of example that is                                                  john m  jeep   jjeep  miamiu  acs  muohio  edu  the germans also say  use  in  mit gaensefuesschen  lit  s mall goose feet   the colloquial expression for quotation marks  with similar elocutionary force  my suspicion is that this is a borrowing  by academics   from english and  or american  but of course these things are difficult to trace  there must be a technical term for the study of gestures  the german term is  gestik   from  geste   gesture  the former being an abstract noun  gesturing  or the like   i seem to remember the same quotation marks gesture in the german usage  german here means german language  not limited  in my mind  to german citizens   it is not uncommon for a german speaker  while lecturing  to use the middle finger  sic  to punctuate the first in a series of fingered ordinal numbers  although in a restaurant the thumb is used as  1   thumb and pointer for  2  and so on  of course the obscene insult can be used as well  another borrowing                                              bill king wfking  ccit  arizona  edu spoken ellipsis   so  in the middle of the lecture she was saying that the rhetorical usage was changing dot dot dot  we got the message long before she finished                                               james kirchner jpkirchner  aol  com the first time i became aware of this phenomenon was in the late  60s  when i was about 12  and some british  progressive rock  song was being played on the radio here in detroit  do nt remember the name or the group   it began with a spoken part mimicking a preacher or professor and he was pronouncing the letters of the abbreviation  i  e   rather than saying  as in         aj  i   society    aj  i   the church     this spoken  i  e   is so common here in the states that  despite being a  highly literate  person  i did nt know it meant  as in  until a year or two ago when my czech  born teaching colleagues in europe told me  i still do nt believe the two mean the same thing anymore in colloquial speech  people here also pronounce  e  g   for  for example    a k a  for  also known as   and latin abbreviations are often pronounced as written  such as  et al  for  and others   the french  a la  used in the sense of  after the fashion of  is so commonly spoken that i now see it written as a word  ala   the most common rendering of the written quotation marks here is a sort of quickly spoken compound word  quoteunquote   as in   he s not a quoteunquote  real  man    the emphasis always follows   business offices are full of spoken acronyms spoken such as  cya   from  cover your ass   to mean a nearly superfluous blame prevention precaution or fact verification measure one takes when doing a particular job   do it as a cya  or  this is just a cya measure     kma  from  kiss my ass   in ad agencies  designates a job people have to do free on their own time  e  g   because it s for their boss s favorite charity   this is just a kma so do nt hurry   or  it s a kma job  but you still have to rush it  i  m really sorry    asap  as soon as possible  is pronounced as a word sounding nearly like  ass at   i suppose the classic case of such a thing is the originally military word  snafu   which stood for  situation normal   all fucked up   check this if it s useful  but i swear i heard people in the czech republic colloquially using the letters of their abbreviation  atd   instead of the full  a tak dale  to mean  for example   closer to what you  re asking for would be the growing use of the phrase  question mark  over here to mean simply something unknown   this event leaves a big question mark over the whole project   you know  this phenomenon is nt only confined to speech  here is a sentence from the letters column of the january 30  1995 u  s  edition of time magazine   those of us who have to use pcs at work but choose to have macs at home know that macs  while not problem free  are far and away superior to pc compatibles  period   notice this use of  period  followed by an exclamation point  the word period in this usage has been reanalysed to such a degree that it s not uncommon in the u  s  to hear emphatic statements like the following   i  m not going period  exclamation point    period  has thus come to mean something like  in any case   americans also say  slash  to designate      he s kind of a carpenter slash bricklayer    it s more or less like a cafe slash bookshop    if he slash she has a gender   i  sure cant tell   we also say  hyphen  in a similar way   he s an actor hyphen tennis pro   also do nt forget the emergence over the last 20 years or so of the term  bottom line   describing the sum of an arithmetic problem or an accounting ledger  and used to mean  the summation  or  the point of the matter   in the 1970s i heard it mainly in two set forms  the question   what s the bottom line    i  e   what s the point   and a main clause  the bottom line is that      i  e   what i  m getting at is      now it s become sort of a complementizer as well  so you hear things like   he gave me this big runaround about how his wife was sick  and he had to do overtime at work  and he s got an exam coming  and all this crap  bottom line he s not gonna come   i  ve also heard people  who want to end useless heated discussion of something and move on to another point  yell things like   wait a minute       new paragraph   some of this stuff almost sounds like people are thinking in comic strip images   there s a question mark hanging over him    i  e   his fate is uncertain   this is similar to idioms that most certainly have such origins  such as   i just saw a light bulb over your head  what s your idea   the germans read the comma aloud in their decimals much as we here say  point   so american 1  0  one point zero  would be german 1  0  eins komma null  \n",
            "模型分類結果: [{'label': 'Negative', 'score': 0.9997130036354065}]\n",
            "實際類別: NEGATIVE \n",
            "\n",
            "第3筆測試資料:\n",
            "郵件文字: ijb web site correction the web address for the international journal of bilingualism  including content page of no  2 vol  1  is  http    www  ncl  ac  uk   nspeech  resijb  htm  a wrong puctuation was included in an earlier posting  \n",
            "模型分類結果: [{'label': 'Negative', 'score': 0.9982105493545532}]\n",
            "實際類別: NEGATIVE \n",
            "\n",
            "第4筆測試資料:\n",
            "郵件文字: sum  clitic doubling in spanish to the linguist readers  some weeks ago  i posted a query about clitic doubling in spanish  i received a very useful response  so i would like to thank  jairo morais nunes alan huffman josemina magdalen philip elliot jelly julia de jong jerzy kowal joel nevis cynthia vakareliyska jose miguel gon  i menayo almeida jacqueline toribio david gohre dan everett my best regards  rocio  rocio jimenez  rjimenez  mailbox  syr  edu           andrews   unification and morphological blocking   nllt  8  4  1990  pp  507557  borer  hagit  parametric syntax  case studies in semitic  romance languages  dordrecht  holland  foris publications  1984  bresnan  joan and sam  a  mchombo  1987  topic  pronoun  and agreement in chiche  language  63  4   741782  bresnan  joan and lioba moshi  1990  object asymmetries in comparative bantu syntax  linguistic inquiry  21  2   147186  franco  jon andoni  on object agreement in spanish  dissertation  university of southern california  1993  garcia  erica  the role of theory in linguistics analysis  the spanish pronoun system  amsterdam  north  holland publishing company  1975  grimshaw  jane  1982  subcategorization and grammatical relations  in a  zaenen  ed  bloomington  ind   indiana university linguistics club  issues and theory in romance linguistics  selected papers from the linguistic symposium on romance languages xxiii  1993  georgetown university press  washington  dc  jaeggli  osvaldo  topics in romance syntax  dordrecht  holland  foris publications  1982  montalbetti  mario  1981  consistency and clitics  ms   massachusetts institue of technology  roberge  yves  the syntactic recoverability of null arguments  mcgill  queen s university press  1990  sunner  nllt 6  1988   vakareliyska  cynthia   na  drop in bulgarian   journal of slavic linguistics 2  1   121150  1994  \n",
            "模型分類結果: [{'label': 'Negative', 'score': 0.9998536109924316}]\n",
            "實際類別: NEGATIVE \n",
            "\n",
            "第5筆測試資料:\n",
            "郵件文字: discontinuous constituency i am currently reviewing literature on the subject of discontinuous constituency and would like to get my hands on work that  1  discusses some of the larger theoretical issues at stake  and  or 2  uses the notion of discontinuous constituency to describe languages other than english  e  g   amy dahlstrom s article on discontinuous constituents in fox   if anyone could point me towards some references  i would be greatly appreciative  sincerely  stuart robinson reed college\n",
            "模型分類結果: [{'label': 'Negative', 'score': 0.9997588992118835}]\n",
            "實際類別: NEGATIVE \n",
            "\n"
          ]
        }
      ],
      "source": [
        "# 使用 pipeline 搭配 fine-tune 過的模型來分類測試資料集內的資料，以前五筆資料為例\n",
        "from transformers import pipeline\n",
        "\n",
        "classifier = pipeline(\"text-classification\", model = \"finetuned_model\")\n",
        "\n",
        "print(\"\\n\")\n",
        "for i in range(5):\n",
        "    print(f\"第{i + 1}筆測試資料:\")\n",
        "\n",
        "    text = final_dataset[\"test\"][\"text\"][i]\n",
        "    result = classifier(text)\n",
        "    label = final_dataset[\"test\"][\"label\"][i]\n",
        "\n",
        "    print(f\"郵件文字: {text}\", end = \"\")\n",
        "    print(f\"模型分類結果: {result}\")\n",
        "    print(f\"實際類別: {id2label[label]}\", \"\\n\")"
      ]
    },
    {
      "cell_type": "code",
      "source": [
        "# 以常見的 spam mail 內容來測試模型的分類能力，應該要分類為 Positive\n",
        "text = \"Hello, your new billing statement for April is now available online. To view your statement and make a payment, please follow the link below: [link]. To avoid an extra fee, please pay by June 1. Thank you!\"\n",
        "classifier(\"text\")"
      ],
      "metadata": {
        "colab": {
          "base_uri": "https://localhost:8080/"
        },
        "id": "3j4gsrjj_5eY",
        "outputId": "cef45995-cd31-4649-cb87-63c06b402acf"
      },
      "execution_count": null,
      "outputs": [
        {
          "output_type": "execute_result",
          "data": {
            "text/plain": [
              "[{'label': 'POSITIVE', 'score': 0.9930926561355591}]"
            ]
          },
          "metadata": {},
          "execution_count": 18
        }
      ]
    }
  ],
  "metadata": {
    "accelerator": "GPU",
    "colab": {
      "gpuType": "T4",
      "provenance": []
    },
    "kernelspec": {
      "display_name": "Python 3",
      "name": "python3"
    },
    "language_info": {
      "name": "python"
    },
    "widgets": {
      "application/vnd.jupyter.widget-state+json": {
        "7b65935687de466fbe75222958d12968": {
          "model_module": "@jupyter-widgets/controls",
          "model_name": "HBoxModel",
          "model_module_version": "1.5.0",
          "state": {
            "_dom_classes": [],
            "_model_module": "@jupyter-widgets/controls",
            "_model_module_version": "1.5.0",
            "_model_name": "HBoxModel",
            "_view_count": null,
            "_view_module": "@jupyter-widgets/controls",
            "_view_module_version": "1.5.0",
            "_view_name": "HBoxView",
            "box_style": "",
            "children": [
              "IPY_MODEL_d451e32b010b4031a4ad912474ddffea",
              "IPY_MODEL_39a414205f36481399376048c72e9fda",
              "IPY_MODEL_f6837041744048b688714a51a82bdffc"
            ],
            "layout": "IPY_MODEL_9aa6f271e9a14754996817b9f8c22929"
          }
        },
        "d451e32b010b4031a4ad912474ddffea": {
          "model_module": "@jupyter-widgets/controls",
          "model_name": "HTMLModel",
          "model_module_version": "1.5.0",
          "state": {
            "_dom_classes": [],
            "_model_module": "@jupyter-widgets/controls",
            "_model_module_version": "1.5.0",
            "_model_name": "HTMLModel",
            "_view_count": null,
            "_view_module": "@jupyter-widgets/controls",
            "_view_module_version": "1.5.0",
            "_view_name": "HTMLView",
            "description": "",
            "description_tooltip": null,
            "layout": "IPY_MODEL_a05dee7baa3b4849adac563e67f4f6b7",
            "placeholder": "​",
            "style": "IPY_MODEL_f6cc5e58f5054cd8be66ec2b8d2349a0",
            "value": "tokenizer_config.json: 100%"
          }
        },
        "39a414205f36481399376048c72e9fda": {
          "model_module": "@jupyter-widgets/controls",
          "model_name": "FloatProgressModel",
          "model_module_version": "1.5.0",
          "state": {
            "_dom_classes": [],
            "_model_module": "@jupyter-widgets/controls",
            "_model_module_version": "1.5.0",
            "_model_name": "FloatProgressModel",
            "_view_count": null,
            "_view_module": "@jupyter-widgets/controls",
            "_view_module_version": "1.5.0",
            "_view_name": "ProgressView",
            "bar_style": "success",
            "description": "",
            "description_tooltip": null,
            "layout": "IPY_MODEL_3b1a2db6185b434c9550a404ab0cac04",
            "max": 48,
            "min": 0,
            "orientation": "horizontal",
            "style": "IPY_MODEL_33e544fa097949f8897aea8262067304",
            "value": 48
          }
        },
        "f6837041744048b688714a51a82bdffc": {
          "model_module": "@jupyter-widgets/controls",
          "model_name": "HTMLModel",
          "model_module_version": "1.5.0",
          "state": {
            "_dom_classes": [],
            "_model_module": "@jupyter-widgets/controls",
            "_model_module_version": "1.5.0",
            "_model_name": "HTMLModel",
            "_view_count": null,
            "_view_module": "@jupyter-widgets/controls",
            "_view_module_version": "1.5.0",
            "_view_name": "HTMLView",
            "description": "",
            "description_tooltip": null,
            "layout": "IPY_MODEL_7d1a0db9039a4bc58883e5152ade60d7",
            "placeholder": "​",
            "style": "IPY_MODEL_974c39ee8f9b4e24892e73defe2c531e",
            "value": " 48.0/48.0 [00:00&lt;00:00, 3.87kB/s]"
          }
        },
        "9aa6f271e9a14754996817b9f8c22929": {
          "model_module": "@jupyter-widgets/base",
          "model_name": "LayoutModel",
          "model_module_version": "1.2.0",
          "state": {
            "_model_module": "@jupyter-widgets/base",
            "_model_module_version": "1.2.0",
            "_model_name": "LayoutModel",
            "_view_count": null,
            "_view_module": "@jupyter-widgets/base",
            "_view_module_version": "1.2.0",
            "_view_name": "LayoutView",
            "align_content": null,
            "align_items": null,
            "align_self": null,
            "border": null,
            "bottom": null,
            "display": null,
            "flex": null,
            "flex_flow": null,
            "grid_area": null,
            "grid_auto_columns": null,
            "grid_auto_flow": null,
            "grid_auto_rows": null,
            "grid_column": null,
            "grid_gap": null,
            "grid_row": null,
            "grid_template_areas": null,
            "grid_template_columns": null,
            "grid_template_rows": null,
            "height": null,
            "justify_content": null,
            "justify_items": null,
            "left": null,
            "margin": null,
            "max_height": null,
            "max_width": null,
            "min_height": null,
            "min_width": null,
            "object_fit": null,
            "object_position": null,
            "order": null,
            "overflow": null,
            "overflow_x": null,
            "overflow_y": null,
            "padding": null,
            "right": null,
            "top": null,
            "visibility": null,
            "width": null
          }
        },
        "a05dee7baa3b4849adac563e67f4f6b7": {
          "model_module": "@jupyter-widgets/base",
          "model_name": "LayoutModel",
          "model_module_version": "1.2.0",
          "state": {
            "_model_module": "@jupyter-widgets/base",
            "_model_module_version": "1.2.0",
            "_model_name": "LayoutModel",
            "_view_count": null,
            "_view_module": "@jupyter-widgets/base",
            "_view_module_version": "1.2.0",
            "_view_name": "LayoutView",
            "align_content": null,
            "align_items": null,
            "align_self": null,
            "border": null,
            "bottom": null,
            "display": null,
            "flex": null,
            "flex_flow": null,
            "grid_area": null,
            "grid_auto_columns": null,
            "grid_auto_flow": null,
            "grid_auto_rows": null,
            "grid_column": null,
            "grid_gap": null,
            "grid_row": null,
            "grid_template_areas": null,
            "grid_template_columns": null,
            "grid_template_rows": null,
            "height": null,
            "justify_content": null,
            "justify_items": null,
            "left": null,
            "margin": null,
            "max_height": null,
            "max_width": null,
            "min_height": null,
            "min_width": null,
            "object_fit": null,
            "object_position": null,
            "order": null,
            "overflow": null,
            "overflow_x": null,
            "overflow_y": null,
            "padding": null,
            "right": null,
            "top": null,
            "visibility": null,
            "width": null
          }
        },
        "f6cc5e58f5054cd8be66ec2b8d2349a0": {
          "model_module": "@jupyter-widgets/controls",
          "model_name": "DescriptionStyleModel",
          "model_module_version": "1.5.0",
          "state": {
            "_model_module": "@jupyter-widgets/controls",
            "_model_module_version": "1.5.0",
            "_model_name": "DescriptionStyleModel",
            "_view_count": null,
            "_view_module": "@jupyter-widgets/base",
            "_view_module_version": "1.2.0",
            "_view_name": "StyleView",
            "description_width": ""
          }
        },
        "3b1a2db6185b434c9550a404ab0cac04": {
          "model_module": "@jupyter-widgets/base",
          "model_name": "LayoutModel",
          "model_module_version": "1.2.0",
          "state": {
            "_model_module": "@jupyter-widgets/base",
            "_model_module_version": "1.2.0",
            "_model_name": "LayoutModel",
            "_view_count": null,
            "_view_module": "@jupyter-widgets/base",
            "_view_module_version": "1.2.0",
            "_view_name": "LayoutView",
            "align_content": null,
            "align_items": null,
            "align_self": null,
            "border": null,
            "bottom": null,
            "display": null,
            "flex": null,
            "flex_flow": null,
            "grid_area": null,
            "grid_auto_columns": null,
            "grid_auto_flow": null,
            "grid_auto_rows": null,
            "grid_column": null,
            "grid_gap": null,
            "grid_row": null,
            "grid_template_areas": null,
            "grid_template_columns": null,
            "grid_template_rows": null,
            "height": null,
            "justify_content": null,
            "justify_items": null,
            "left": null,
            "margin": null,
            "max_height": null,
            "max_width": null,
            "min_height": null,
            "min_width": null,
            "object_fit": null,
            "object_position": null,
            "order": null,
            "overflow": null,
            "overflow_x": null,
            "overflow_y": null,
            "padding": null,
            "right": null,
            "top": null,
            "visibility": null,
            "width": null
          }
        },
        "33e544fa097949f8897aea8262067304": {
          "model_module": "@jupyter-widgets/controls",
          "model_name": "ProgressStyleModel",
          "model_module_version": "1.5.0",
          "state": {
            "_model_module": "@jupyter-widgets/controls",
            "_model_module_version": "1.5.0",
            "_model_name": "ProgressStyleModel",
            "_view_count": null,
            "_view_module": "@jupyter-widgets/base",
            "_view_module_version": "1.2.0",
            "_view_name": "StyleView",
            "bar_color": null,
            "description_width": ""
          }
        },
        "7d1a0db9039a4bc58883e5152ade60d7": {
          "model_module": "@jupyter-widgets/base",
          "model_name": "LayoutModel",
          "model_module_version": "1.2.0",
          "state": {
            "_model_module": "@jupyter-widgets/base",
            "_model_module_version": "1.2.0",
            "_model_name": "LayoutModel",
            "_view_count": null,
            "_view_module": "@jupyter-widgets/base",
            "_view_module_version": "1.2.0",
            "_view_name": "LayoutView",
            "align_content": null,
            "align_items": null,
            "align_self": null,
            "border": null,
            "bottom": null,
            "display": null,
            "flex": null,
            "flex_flow": null,
            "grid_area": null,
            "grid_auto_columns": null,
            "grid_auto_flow": null,
            "grid_auto_rows": null,
            "grid_column": null,
            "grid_gap": null,
            "grid_row": null,
            "grid_template_areas": null,
            "grid_template_columns": null,
            "grid_template_rows": null,
            "height": null,
            "justify_content": null,
            "justify_items": null,
            "left": null,
            "margin": null,
            "max_height": null,
            "max_width": null,
            "min_height": null,
            "min_width": null,
            "object_fit": null,
            "object_position": null,
            "order": null,
            "overflow": null,
            "overflow_x": null,
            "overflow_y": null,
            "padding": null,
            "right": null,
            "top": null,
            "visibility": null,
            "width": null
          }
        },
        "974c39ee8f9b4e24892e73defe2c531e": {
          "model_module": "@jupyter-widgets/controls",
          "model_name": "DescriptionStyleModel",
          "model_module_version": "1.5.0",
          "state": {
            "_model_module": "@jupyter-widgets/controls",
            "_model_module_version": "1.5.0",
            "_model_name": "DescriptionStyleModel",
            "_view_count": null,
            "_view_module": "@jupyter-widgets/base",
            "_view_module_version": "1.2.0",
            "_view_name": "StyleView",
            "description_width": ""
          }
        },
        "5778ee83aae54b328081ee7f3c542eed": {
          "model_module": "@jupyter-widgets/controls",
          "model_name": "HBoxModel",
          "model_module_version": "1.5.0",
          "state": {
            "_dom_classes": [],
            "_model_module": "@jupyter-widgets/controls",
            "_model_module_version": "1.5.0",
            "_model_name": "HBoxModel",
            "_view_count": null,
            "_view_module": "@jupyter-widgets/controls",
            "_view_module_version": "1.5.0",
            "_view_name": "HBoxView",
            "box_style": "",
            "children": [
              "IPY_MODEL_8dba7e2a989044ae8c6ae385a988f94d",
              "IPY_MODEL_e6399160fc2e4fe2b6a20286280de55e",
              "IPY_MODEL_f66dee3597704790a6a547324b4eb7a6"
            ],
            "layout": "IPY_MODEL_f4403f94f7c542de8fda5ed0d7189b3d"
          }
        },
        "8dba7e2a989044ae8c6ae385a988f94d": {
          "model_module": "@jupyter-widgets/controls",
          "model_name": "HTMLModel",
          "model_module_version": "1.5.0",
          "state": {
            "_dom_classes": [],
            "_model_module": "@jupyter-widgets/controls",
            "_model_module_version": "1.5.0",
            "_model_name": "HTMLModel",
            "_view_count": null,
            "_view_module": "@jupyter-widgets/controls",
            "_view_module_version": "1.5.0",
            "_view_name": "HTMLView",
            "description": "",
            "description_tooltip": null,
            "layout": "IPY_MODEL_cb26151b20e84c898b112a6750927215",
            "placeholder": "​",
            "style": "IPY_MODEL_00929553e2424cf689c4f90ca1e96484",
            "value": "config.json: 100%"
          }
        },
        "e6399160fc2e4fe2b6a20286280de55e": {
          "model_module": "@jupyter-widgets/controls",
          "model_name": "FloatProgressModel",
          "model_module_version": "1.5.0",
          "state": {
            "_dom_classes": [],
            "_model_module": "@jupyter-widgets/controls",
            "_model_module_version": "1.5.0",
            "_model_name": "FloatProgressModel",
            "_view_count": null,
            "_view_module": "@jupyter-widgets/controls",
            "_view_module_version": "1.5.0",
            "_view_name": "ProgressView",
            "bar_style": "success",
            "description": "",
            "description_tooltip": null,
            "layout": "IPY_MODEL_3ad477e1e34440bc91cb86388934765b",
            "max": 629,
            "min": 0,
            "orientation": "horizontal",
            "style": "IPY_MODEL_67d29d8933674834ab01ea769d964a2c",
            "value": 629
          }
        },
        "f66dee3597704790a6a547324b4eb7a6": {
          "model_module": "@jupyter-widgets/controls",
          "model_name": "HTMLModel",
          "model_module_version": "1.5.0",
          "state": {
            "_dom_classes": [],
            "_model_module": "@jupyter-widgets/controls",
            "_model_module_version": "1.5.0",
            "_model_name": "HTMLModel",
            "_view_count": null,
            "_view_module": "@jupyter-widgets/controls",
            "_view_module_version": "1.5.0",
            "_view_name": "HTMLView",
            "description": "",
            "description_tooltip": null,
            "layout": "IPY_MODEL_d4aed78607434f75a597f37d695599e2",
            "placeholder": "​",
            "style": "IPY_MODEL_7b6fcc701c534946a33986adff53f865",
            "value": " 629/629 [00:00&lt;00:00, 44.7kB/s]"
          }
        },
        "f4403f94f7c542de8fda5ed0d7189b3d": {
          "model_module": "@jupyter-widgets/base",
          "model_name": "LayoutModel",
          "model_module_version": "1.2.0",
          "state": {
            "_model_module": "@jupyter-widgets/base",
            "_model_module_version": "1.2.0",
            "_model_name": "LayoutModel",
            "_view_count": null,
            "_view_module": "@jupyter-widgets/base",
            "_view_module_version": "1.2.0",
            "_view_name": "LayoutView",
            "align_content": null,
            "align_items": null,
            "align_self": null,
            "border": null,
            "bottom": null,
            "display": null,
            "flex": null,
            "flex_flow": null,
            "grid_area": null,
            "grid_auto_columns": null,
            "grid_auto_flow": null,
            "grid_auto_rows": null,
            "grid_column": null,
            "grid_gap": null,
            "grid_row": null,
            "grid_template_areas": null,
            "grid_template_columns": null,
            "grid_template_rows": null,
            "height": null,
            "justify_content": null,
            "justify_items": null,
            "left": null,
            "margin": null,
            "max_height": null,
            "max_width": null,
            "min_height": null,
            "min_width": null,
            "object_fit": null,
            "object_position": null,
            "order": null,
            "overflow": null,
            "overflow_x": null,
            "overflow_y": null,
            "padding": null,
            "right": null,
            "top": null,
            "visibility": null,
            "width": null
          }
        },
        "cb26151b20e84c898b112a6750927215": {
          "model_module": "@jupyter-widgets/base",
          "model_name": "LayoutModel",
          "model_module_version": "1.2.0",
          "state": {
            "_model_module": "@jupyter-widgets/base",
            "_model_module_version": "1.2.0",
            "_model_name": "LayoutModel",
            "_view_count": null,
            "_view_module": "@jupyter-widgets/base",
            "_view_module_version": "1.2.0",
            "_view_name": "LayoutView",
            "align_content": null,
            "align_items": null,
            "align_self": null,
            "border": null,
            "bottom": null,
            "display": null,
            "flex": null,
            "flex_flow": null,
            "grid_area": null,
            "grid_auto_columns": null,
            "grid_auto_flow": null,
            "grid_auto_rows": null,
            "grid_column": null,
            "grid_gap": null,
            "grid_row": null,
            "grid_template_areas": null,
            "grid_template_columns": null,
            "grid_template_rows": null,
            "height": null,
            "justify_content": null,
            "justify_items": null,
            "left": null,
            "margin": null,
            "max_height": null,
            "max_width": null,
            "min_height": null,
            "min_width": null,
            "object_fit": null,
            "object_position": null,
            "order": null,
            "overflow": null,
            "overflow_x": null,
            "overflow_y": null,
            "padding": null,
            "right": null,
            "top": null,
            "visibility": null,
            "width": null
          }
        },
        "00929553e2424cf689c4f90ca1e96484": {
          "model_module": "@jupyter-widgets/controls",
          "model_name": "DescriptionStyleModel",
          "model_module_version": "1.5.0",
          "state": {
            "_model_module": "@jupyter-widgets/controls",
            "_model_module_version": "1.5.0",
            "_model_name": "DescriptionStyleModel",
            "_view_count": null,
            "_view_module": "@jupyter-widgets/base",
            "_view_module_version": "1.2.0",
            "_view_name": "StyleView",
            "description_width": ""
          }
        },
        "3ad477e1e34440bc91cb86388934765b": {
          "model_module": "@jupyter-widgets/base",
          "model_name": "LayoutModel",
          "model_module_version": "1.2.0",
          "state": {
            "_model_module": "@jupyter-widgets/base",
            "_model_module_version": "1.2.0",
            "_model_name": "LayoutModel",
            "_view_count": null,
            "_view_module": "@jupyter-widgets/base",
            "_view_module_version": "1.2.0",
            "_view_name": "LayoutView",
            "align_content": null,
            "align_items": null,
            "align_self": null,
            "border": null,
            "bottom": null,
            "display": null,
            "flex": null,
            "flex_flow": null,
            "grid_area": null,
            "grid_auto_columns": null,
            "grid_auto_flow": null,
            "grid_auto_rows": null,
            "grid_column": null,
            "grid_gap": null,
            "grid_row": null,
            "grid_template_areas": null,
            "grid_template_columns": null,
            "grid_template_rows": null,
            "height": null,
            "justify_content": null,
            "justify_items": null,
            "left": null,
            "margin": null,
            "max_height": null,
            "max_width": null,
            "min_height": null,
            "min_width": null,
            "object_fit": null,
            "object_position": null,
            "order": null,
            "overflow": null,
            "overflow_x": null,
            "overflow_y": null,
            "padding": null,
            "right": null,
            "top": null,
            "visibility": null,
            "width": null
          }
        },
        "67d29d8933674834ab01ea769d964a2c": {
          "model_module": "@jupyter-widgets/controls",
          "model_name": "ProgressStyleModel",
          "model_module_version": "1.5.0",
          "state": {
            "_model_module": "@jupyter-widgets/controls",
            "_model_module_version": "1.5.0",
            "_model_name": "ProgressStyleModel",
            "_view_count": null,
            "_view_module": "@jupyter-widgets/base",
            "_view_module_version": "1.2.0",
            "_view_name": "StyleView",
            "bar_color": null,
            "description_width": ""
          }
        },
        "d4aed78607434f75a597f37d695599e2": {
          "model_module": "@jupyter-widgets/base",
          "model_name": "LayoutModel",
          "model_module_version": "1.2.0",
          "state": {
            "_model_module": "@jupyter-widgets/base",
            "_model_module_version": "1.2.0",
            "_model_name": "LayoutModel",
            "_view_count": null,
            "_view_module": "@jupyter-widgets/base",
            "_view_module_version": "1.2.0",
            "_view_name": "LayoutView",
            "align_content": null,
            "align_items": null,
            "align_self": null,
            "border": null,
            "bottom": null,
            "display": null,
            "flex": null,
            "flex_flow": null,
            "grid_area": null,
            "grid_auto_columns": null,
            "grid_auto_flow": null,
            "grid_auto_rows": null,
            "grid_column": null,
            "grid_gap": null,
            "grid_row": null,
            "grid_template_areas": null,
            "grid_template_columns": null,
            "grid_template_rows": null,
            "height": null,
            "justify_content": null,
            "justify_items": null,
            "left": null,
            "margin": null,
            "max_height": null,
            "max_width": null,
            "min_height": null,
            "min_width": null,
            "object_fit": null,
            "object_position": null,
            "order": null,
            "overflow": null,
            "overflow_x": null,
            "overflow_y": null,
            "padding": null,
            "right": null,
            "top": null,
            "visibility": null,
            "width": null
          }
        },
        "7b6fcc701c534946a33986adff53f865": {
          "model_module": "@jupyter-widgets/controls",
          "model_name": "DescriptionStyleModel",
          "model_module_version": "1.5.0",
          "state": {
            "_model_module": "@jupyter-widgets/controls",
            "_model_module_version": "1.5.0",
            "_model_name": "DescriptionStyleModel",
            "_view_count": null,
            "_view_module": "@jupyter-widgets/base",
            "_view_module_version": "1.2.0",
            "_view_name": "StyleView",
            "description_width": ""
          }
        },
        "fcc1f2cb8c6b45f6b74547704eb87661": {
          "model_module": "@jupyter-widgets/controls",
          "model_name": "HBoxModel",
          "model_module_version": "1.5.0",
          "state": {
            "_dom_classes": [],
            "_model_module": "@jupyter-widgets/controls",
            "_model_module_version": "1.5.0",
            "_model_name": "HBoxModel",
            "_view_count": null,
            "_view_module": "@jupyter-widgets/controls",
            "_view_module_version": "1.5.0",
            "_view_name": "HBoxView",
            "box_style": "",
            "children": [
              "IPY_MODEL_af5f166e5a154256b00a854c78492854",
              "IPY_MODEL_2963d8c8bbf7436289ea359bef0b46be",
              "IPY_MODEL_208074776a6c4e548325670d76594d78"
            ],
            "layout": "IPY_MODEL_54550f30d5954ccf89dde24e68b37cb7"
          }
        },
        "af5f166e5a154256b00a854c78492854": {
          "model_module": "@jupyter-widgets/controls",
          "model_name": "HTMLModel",
          "model_module_version": "1.5.0",
          "state": {
            "_dom_classes": [],
            "_model_module": "@jupyter-widgets/controls",
            "_model_module_version": "1.5.0",
            "_model_name": "HTMLModel",
            "_view_count": null,
            "_view_module": "@jupyter-widgets/controls",
            "_view_module_version": "1.5.0",
            "_view_name": "HTMLView",
            "description": "",
            "description_tooltip": null,
            "layout": "IPY_MODEL_ffdfc386795241909f6a06a1337c5a34",
            "placeholder": "​",
            "style": "IPY_MODEL_ae6b9c2673e747dc8d56fd8723713f27",
            "value": "vocab.txt: 100%"
          }
        },
        "2963d8c8bbf7436289ea359bef0b46be": {
          "model_module": "@jupyter-widgets/controls",
          "model_name": "FloatProgressModel",
          "model_module_version": "1.5.0",
          "state": {
            "_dom_classes": [],
            "_model_module": "@jupyter-widgets/controls",
            "_model_module_version": "1.5.0",
            "_model_name": "FloatProgressModel",
            "_view_count": null,
            "_view_module": "@jupyter-widgets/controls",
            "_view_module_version": "1.5.0",
            "_view_name": "ProgressView",
            "bar_style": "success",
            "description": "",
            "description_tooltip": null,
            "layout": "IPY_MODEL_34705d9f5b5b47d08b39424495b4bdfd",
            "max": 231508,
            "min": 0,
            "orientation": "horizontal",
            "style": "IPY_MODEL_fcec472a992245f2863b1c7b5b1998b7",
            "value": 231508
          }
        },
        "208074776a6c4e548325670d76594d78": {
          "model_module": "@jupyter-widgets/controls",
          "model_name": "HTMLModel",
          "model_module_version": "1.5.0",
          "state": {
            "_dom_classes": [],
            "_model_module": "@jupyter-widgets/controls",
            "_model_module_version": "1.5.0",
            "_model_name": "HTMLModel",
            "_view_count": null,
            "_view_module": "@jupyter-widgets/controls",
            "_view_module_version": "1.5.0",
            "_view_name": "HTMLView",
            "description": "",
            "description_tooltip": null,
            "layout": "IPY_MODEL_0b090f8f31da4be5b27f11eedfbc239f",
            "placeholder": "​",
            "style": "IPY_MODEL_c8b07e7a8a864eb7bd19d67a9e69176e",
            "value": " 232k/232k [00:00&lt;00:00, 336kB/s]"
          }
        },
        "54550f30d5954ccf89dde24e68b37cb7": {
          "model_module": "@jupyter-widgets/base",
          "model_name": "LayoutModel",
          "model_module_version": "1.2.0",
          "state": {
            "_model_module": "@jupyter-widgets/base",
            "_model_module_version": "1.2.0",
            "_model_name": "LayoutModel",
            "_view_count": null,
            "_view_module": "@jupyter-widgets/base",
            "_view_module_version": "1.2.0",
            "_view_name": "LayoutView",
            "align_content": null,
            "align_items": null,
            "align_self": null,
            "border": null,
            "bottom": null,
            "display": null,
            "flex": null,
            "flex_flow": null,
            "grid_area": null,
            "grid_auto_columns": null,
            "grid_auto_flow": null,
            "grid_auto_rows": null,
            "grid_column": null,
            "grid_gap": null,
            "grid_row": null,
            "grid_template_areas": null,
            "grid_template_columns": null,
            "grid_template_rows": null,
            "height": null,
            "justify_content": null,
            "justify_items": null,
            "left": null,
            "margin": null,
            "max_height": null,
            "max_width": null,
            "min_height": null,
            "min_width": null,
            "object_fit": null,
            "object_position": null,
            "order": null,
            "overflow": null,
            "overflow_x": null,
            "overflow_y": null,
            "padding": null,
            "right": null,
            "top": null,
            "visibility": null,
            "width": null
          }
        },
        "ffdfc386795241909f6a06a1337c5a34": {
          "model_module": "@jupyter-widgets/base",
          "model_name": "LayoutModel",
          "model_module_version": "1.2.0",
          "state": {
            "_model_module": "@jupyter-widgets/base",
            "_model_module_version": "1.2.0",
            "_model_name": "LayoutModel",
            "_view_count": null,
            "_view_module": "@jupyter-widgets/base",
            "_view_module_version": "1.2.0",
            "_view_name": "LayoutView",
            "align_content": null,
            "align_items": null,
            "align_self": null,
            "border": null,
            "bottom": null,
            "display": null,
            "flex": null,
            "flex_flow": null,
            "grid_area": null,
            "grid_auto_columns": null,
            "grid_auto_flow": null,
            "grid_auto_rows": null,
            "grid_column": null,
            "grid_gap": null,
            "grid_row": null,
            "grid_template_areas": null,
            "grid_template_columns": null,
            "grid_template_rows": null,
            "height": null,
            "justify_content": null,
            "justify_items": null,
            "left": null,
            "margin": null,
            "max_height": null,
            "max_width": null,
            "min_height": null,
            "min_width": null,
            "object_fit": null,
            "object_position": null,
            "order": null,
            "overflow": null,
            "overflow_x": null,
            "overflow_y": null,
            "padding": null,
            "right": null,
            "top": null,
            "visibility": null,
            "width": null
          }
        },
        "ae6b9c2673e747dc8d56fd8723713f27": {
          "model_module": "@jupyter-widgets/controls",
          "model_name": "DescriptionStyleModel",
          "model_module_version": "1.5.0",
          "state": {
            "_model_module": "@jupyter-widgets/controls",
            "_model_module_version": "1.5.0",
            "_model_name": "DescriptionStyleModel",
            "_view_count": null,
            "_view_module": "@jupyter-widgets/base",
            "_view_module_version": "1.2.0",
            "_view_name": "StyleView",
            "description_width": ""
          }
        },
        "34705d9f5b5b47d08b39424495b4bdfd": {
          "model_module": "@jupyter-widgets/base",
          "model_name": "LayoutModel",
          "model_module_version": "1.2.0",
          "state": {
            "_model_module": "@jupyter-widgets/base",
            "_model_module_version": "1.2.0",
            "_model_name": "LayoutModel",
            "_view_count": null,
            "_view_module": "@jupyter-widgets/base",
            "_view_module_version": "1.2.0",
            "_view_name": "LayoutView",
            "align_content": null,
            "align_items": null,
            "align_self": null,
            "border": null,
            "bottom": null,
            "display": null,
            "flex": null,
            "flex_flow": null,
            "grid_area": null,
            "grid_auto_columns": null,
            "grid_auto_flow": null,
            "grid_auto_rows": null,
            "grid_column": null,
            "grid_gap": null,
            "grid_row": null,
            "grid_template_areas": null,
            "grid_template_columns": null,
            "grid_template_rows": null,
            "height": null,
            "justify_content": null,
            "justify_items": null,
            "left": null,
            "margin": null,
            "max_height": null,
            "max_width": null,
            "min_height": null,
            "min_width": null,
            "object_fit": null,
            "object_position": null,
            "order": null,
            "overflow": null,
            "overflow_x": null,
            "overflow_y": null,
            "padding": null,
            "right": null,
            "top": null,
            "visibility": null,
            "width": null
          }
        },
        "fcec472a992245f2863b1c7b5b1998b7": {
          "model_module": "@jupyter-widgets/controls",
          "model_name": "ProgressStyleModel",
          "model_module_version": "1.5.0",
          "state": {
            "_model_module": "@jupyter-widgets/controls",
            "_model_module_version": "1.5.0",
            "_model_name": "ProgressStyleModel",
            "_view_count": null,
            "_view_module": "@jupyter-widgets/base",
            "_view_module_version": "1.2.0",
            "_view_name": "StyleView",
            "bar_color": null,
            "description_width": ""
          }
        },
        "0b090f8f31da4be5b27f11eedfbc239f": {
          "model_module": "@jupyter-widgets/base",
          "model_name": "LayoutModel",
          "model_module_version": "1.2.0",
          "state": {
            "_model_module": "@jupyter-widgets/base",
            "_model_module_version": "1.2.0",
            "_model_name": "LayoutModel",
            "_view_count": null,
            "_view_module": "@jupyter-widgets/base",
            "_view_module_version": "1.2.0",
            "_view_name": "LayoutView",
            "align_content": null,
            "align_items": null,
            "align_self": null,
            "border": null,
            "bottom": null,
            "display": null,
            "flex": null,
            "flex_flow": null,
            "grid_area": null,
            "grid_auto_columns": null,
            "grid_auto_flow": null,
            "grid_auto_rows": null,
            "grid_column": null,
            "grid_gap": null,
            "grid_row": null,
            "grid_template_areas": null,
            "grid_template_columns": null,
            "grid_template_rows": null,
            "height": null,
            "justify_content": null,
            "justify_items": null,
            "left": null,
            "margin": null,
            "max_height": null,
            "max_width": null,
            "min_height": null,
            "min_width": null,
            "object_fit": null,
            "object_position": null,
            "order": null,
            "overflow": null,
            "overflow_x": null,
            "overflow_y": null,
            "padding": null,
            "right": null,
            "top": null,
            "visibility": null,
            "width": null
          }
        },
        "c8b07e7a8a864eb7bd19d67a9e69176e": {
          "model_module": "@jupyter-widgets/controls",
          "model_name": "DescriptionStyleModel",
          "model_module_version": "1.5.0",
          "state": {
            "_model_module": "@jupyter-widgets/controls",
            "_model_module_version": "1.5.0",
            "_model_name": "DescriptionStyleModel",
            "_view_count": null,
            "_view_module": "@jupyter-widgets/base",
            "_view_module_version": "1.2.0",
            "_view_name": "StyleView",
            "description_width": ""
          }
        },
        "b0e2598a7b7042bfb9c33743b1ec76f6": {
          "model_module": "@jupyter-widgets/controls",
          "model_name": "HBoxModel",
          "model_module_version": "1.5.0",
          "state": {
            "_dom_classes": [],
            "_model_module": "@jupyter-widgets/controls",
            "_model_module_version": "1.5.0",
            "_model_name": "HBoxModel",
            "_view_count": null,
            "_view_module": "@jupyter-widgets/controls",
            "_view_module_version": "1.5.0",
            "_view_name": "HBoxView",
            "box_style": "",
            "children": [
              "IPY_MODEL_3192e44c2f51483797595d5932b9f73d",
              "IPY_MODEL_99f82323a737418bbe77824f1d7c67f1",
              "IPY_MODEL_2ca21d47d74a4e10880031e4c2f0c5e1"
            ],
            "layout": "IPY_MODEL_c2fc3a0fe17c4aac8bfabfdbd1f40375"
          }
        },
        "3192e44c2f51483797595d5932b9f73d": {
          "model_module": "@jupyter-widgets/controls",
          "model_name": "HTMLModel",
          "model_module_version": "1.5.0",
          "state": {
            "_dom_classes": [],
            "_model_module": "@jupyter-widgets/controls",
            "_model_module_version": "1.5.0",
            "_model_name": "HTMLModel",
            "_view_count": null,
            "_view_module": "@jupyter-widgets/controls",
            "_view_module_version": "1.5.0",
            "_view_name": "HTMLView",
            "description": "",
            "description_tooltip": null,
            "layout": "IPY_MODEL_8c3d83eb83254078a72497505b620bc4",
            "placeholder": "​",
            "style": "IPY_MODEL_4c3714d32890413caa6a2fb530cebe78",
            "value": "Map: 100%"
          }
        },
        "99f82323a737418bbe77824f1d7c67f1": {
          "model_module": "@jupyter-widgets/controls",
          "model_name": "FloatProgressModel",
          "model_module_version": "1.5.0",
          "state": {
            "_dom_classes": [],
            "_model_module": "@jupyter-widgets/controls",
            "_model_module_version": "1.5.0",
            "_model_name": "FloatProgressModel",
            "_view_count": null,
            "_view_module": "@jupyter-widgets/controls",
            "_view_module_version": "1.5.0",
            "_view_name": "ProgressView",
            "bar_style": "success",
            "description": "",
            "description_tooltip": null,
            "layout": "IPY_MODEL_7ba0d7142548451dacdc16eb5136fb2f",
            "max": 2831,
            "min": 0,
            "orientation": "horizontal",
            "style": "IPY_MODEL_b7168472df374230ad93a800ea29eda3",
            "value": 2831
          }
        },
        "2ca21d47d74a4e10880031e4c2f0c5e1": {
          "model_module": "@jupyter-widgets/controls",
          "model_name": "HTMLModel",
          "model_module_version": "1.5.0",
          "state": {
            "_dom_classes": [],
            "_model_module": "@jupyter-widgets/controls",
            "_model_module_version": "1.5.0",
            "_model_name": "HTMLModel",
            "_view_count": null,
            "_view_module": "@jupyter-widgets/controls",
            "_view_module_version": "1.5.0",
            "_view_name": "HTMLView",
            "description": "",
            "description_tooltip": null,
            "layout": "IPY_MODEL_93b4100b84bd4598a42ef493aff9f6f5",
            "placeholder": "​",
            "style": "IPY_MODEL_50d1107ed63e401cadd11a4f2c552caf",
            "value": " 2831/2831 [00:01&lt;00:00, 2130.52 examples/s]"
          }
        },
        "c2fc3a0fe17c4aac8bfabfdbd1f40375": {
          "model_module": "@jupyter-widgets/base",
          "model_name": "LayoutModel",
          "model_module_version": "1.2.0",
          "state": {
            "_model_module": "@jupyter-widgets/base",
            "_model_module_version": "1.2.0",
            "_model_name": "LayoutModel",
            "_view_count": null,
            "_view_module": "@jupyter-widgets/base",
            "_view_module_version": "1.2.0",
            "_view_name": "LayoutView",
            "align_content": null,
            "align_items": null,
            "align_self": null,
            "border": null,
            "bottom": null,
            "display": null,
            "flex": null,
            "flex_flow": null,
            "grid_area": null,
            "grid_auto_columns": null,
            "grid_auto_flow": null,
            "grid_auto_rows": null,
            "grid_column": null,
            "grid_gap": null,
            "grid_row": null,
            "grid_template_areas": null,
            "grid_template_columns": null,
            "grid_template_rows": null,
            "height": null,
            "justify_content": null,
            "justify_items": null,
            "left": null,
            "margin": null,
            "max_height": null,
            "max_width": null,
            "min_height": null,
            "min_width": null,
            "object_fit": null,
            "object_position": null,
            "order": null,
            "overflow": null,
            "overflow_x": null,
            "overflow_y": null,
            "padding": null,
            "right": null,
            "top": null,
            "visibility": null,
            "width": null
          }
        },
        "8c3d83eb83254078a72497505b620bc4": {
          "model_module": "@jupyter-widgets/base",
          "model_name": "LayoutModel",
          "model_module_version": "1.2.0",
          "state": {
            "_model_module": "@jupyter-widgets/base",
            "_model_module_version": "1.2.0",
            "_model_name": "LayoutModel",
            "_view_count": null,
            "_view_module": "@jupyter-widgets/base",
            "_view_module_version": "1.2.0",
            "_view_name": "LayoutView",
            "align_content": null,
            "align_items": null,
            "align_self": null,
            "border": null,
            "bottom": null,
            "display": null,
            "flex": null,
            "flex_flow": null,
            "grid_area": null,
            "grid_auto_columns": null,
            "grid_auto_flow": null,
            "grid_auto_rows": null,
            "grid_column": null,
            "grid_gap": null,
            "grid_row": null,
            "grid_template_areas": null,
            "grid_template_columns": null,
            "grid_template_rows": null,
            "height": null,
            "justify_content": null,
            "justify_items": null,
            "left": null,
            "margin": null,
            "max_height": null,
            "max_width": null,
            "min_height": null,
            "min_width": null,
            "object_fit": null,
            "object_position": null,
            "order": null,
            "overflow": null,
            "overflow_x": null,
            "overflow_y": null,
            "padding": null,
            "right": null,
            "top": null,
            "visibility": null,
            "width": null
          }
        },
        "4c3714d32890413caa6a2fb530cebe78": {
          "model_module": "@jupyter-widgets/controls",
          "model_name": "DescriptionStyleModel",
          "model_module_version": "1.5.0",
          "state": {
            "_model_module": "@jupyter-widgets/controls",
            "_model_module_version": "1.5.0",
            "_model_name": "DescriptionStyleModel",
            "_view_count": null,
            "_view_module": "@jupyter-widgets/base",
            "_view_module_version": "1.2.0",
            "_view_name": "StyleView",
            "description_width": ""
          }
        },
        "7ba0d7142548451dacdc16eb5136fb2f": {
          "model_module": "@jupyter-widgets/base",
          "model_name": "LayoutModel",
          "model_module_version": "1.2.0",
          "state": {
            "_model_module": "@jupyter-widgets/base",
            "_model_module_version": "1.2.0",
            "_model_name": "LayoutModel",
            "_view_count": null,
            "_view_module": "@jupyter-widgets/base",
            "_view_module_version": "1.2.0",
            "_view_name": "LayoutView",
            "align_content": null,
            "align_items": null,
            "align_self": null,
            "border": null,
            "bottom": null,
            "display": null,
            "flex": null,
            "flex_flow": null,
            "grid_area": null,
            "grid_auto_columns": null,
            "grid_auto_flow": null,
            "grid_auto_rows": null,
            "grid_column": null,
            "grid_gap": null,
            "grid_row": null,
            "grid_template_areas": null,
            "grid_template_columns": null,
            "grid_template_rows": null,
            "height": null,
            "justify_content": null,
            "justify_items": null,
            "left": null,
            "margin": null,
            "max_height": null,
            "max_width": null,
            "min_height": null,
            "min_width": null,
            "object_fit": null,
            "object_position": null,
            "order": null,
            "overflow": null,
            "overflow_x": null,
            "overflow_y": null,
            "padding": null,
            "right": null,
            "top": null,
            "visibility": null,
            "width": null
          }
        },
        "b7168472df374230ad93a800ea29eda3": {
          "model_module": "@jupyter-widgets/controls",
          "model_name": "ProgressStyleModel",
          "model_module_version": "1.5.0",
          "state": {
            "_model_module": "@jupyter-widgets/controls",
            "_model_module_version": "1.5.0",
            "_model_name": "ProgressStyleModel",
            "_view_count": null,
            "_view_module": "@jupyter-widgets/base",
            "_view_module_version": "1.2.0",
            "_view_name": "StyleView",
            "bar_color": null,
            "description_width": ""
          }
        },
        "93b4100b84bd4598a42ef493aff9f6f5": {
          "model_module": "@jupyter-widgets/base",
          "model_name": "LayoutModel",
          "model_module_version": "1.2.0",
          "state": {
            "_model_module": "@jupyter-widgets/base",
            "_model_module_version": "1.2.0",
            "_model_name": "LayoutModel",
            "_view_count": null,
            "_view_module": "@jupyter-widgets/base",
            "_view_module_version": "1.2.0",
            "_view_name": "LayoutView",
            "align_content": null,
            "align_items": null,
            "align_self": null,
            "border": null,
            "bottom": null,
            "display": null,
            "flex": null,
            "flex_flow": null,
            "grid_area": null,
            "grid_auto_columns": null,
            "grid_auto_flow": null,
            "grid_auto_rows": null,
            "grid_column": null,
            "grid_gap": null,
            "grid_row": null,
            "grid_template_areas": null,
            "grid_template_columns": null,
            "grid_template_rows": null,
            "height": null,
            "justify_content": null,
            "justify_items": null,
            "left": null,
            "margin": null,
            "max_height": null,
            "max_width": null,
            "min_height": null,
            "min_width": null,
            "object_fit": null,
            "object_position": null,
            "order": null,
            "overflow": null,
            "overflow_x": null,
            "overflow_y": null,
            "padding": null,
            "right": null,
            "top": null,
            "visibility": null,
            "width": null
          }
        },
        "50d1107ed63e401cadd11a4f2c552caf": {
          "model_module": "@jupyter-widgets/controls",
          "model_name": "DescriptionStyleModel",
          "model_module_version": "1.5.0",
          "state": {
            "_model_module": "@jupyter-widgets/controls",
            "_model_module_version": "1.5.0",
            "_model_name": "DescriptionStyleModel",
            "_view_count": null,
            "_view_module": "@jupyter-widgets/base",
            "_view_module_version": "1.2.0",
            "_view_name": "StyleView",
            "description_width": ""
          }
        },
        "f7476b4c08914095bf230b332101a3d0": {
          "model_module": "@jupyter-widgets/controls",
          "model_name": "HBoxModel",
          "model_module_version": "1.5.0",
          "state": {
            "_dom_classes": [],
            "_model_module": "@jupyter-widgets/controls",
            "_model_module_version": "1.5.0",
            "_model_name": "HBoxModel",
            "_view_count": null,
            "_view_module": "@jupyter-widgets/controls",
            "_view_module_version": "1.5.0",
            "_view_name": "HBoxView",
            "box_style": "",
            "children": [
              "IPY_MODEL_f6c97e8b57664ec5bdba31a64cb00bc8",
              "IPY_MODEL_d2a005d013ee44ba84f5c1eaf744738c",
              "IPY_MODEL_65820329de814999a0635876a0553fc9"
            ],
            "layout": "IPY_MODEL_351e653a854c488ab3e79c1fa0e60d13"
          }
        },
        "f6c97e8b57664ec5bdba31a64cb00bc8": {
          "model_module": "@jupyter-widgets/controls",
          "model_name": "HTMLModel",
          "model_module_version": "1.5.0",
          "state": {
            "_dom_classes": [],
            "_model_module": "@jupyter-widgets/controls",
            "_model_module_version": "1.5.0",
            "_model_name": "HTMLModel",
            "_view_count": null,
            "_view_module": "@jupyter-widgets/controls",
            "_view_module_version": "1.5.0",
            "_view_name": "HTMLView",
            "description": "",
            "description_tooltip": null,
            "layout": "IPY_MODEL_7f002edee96e4b958662e49c67949494",
            "placeholder": "​",
            "style": "IPY_MODEL_925c56bd7d784d78bb61d1c087349bfd",
            "value": "model.safetensors: 100%"
          }
        },
        "d2a005d013ee44ba84f5c1eaf744738c": {
          "model_module": "@jupyter-widgets/controls",
          "model_name": "FloatProgressModel",
          "model_module_version": "1.5.0",
          "state": {
            "_dom_classes": [],
            "_model_module": "@jupyter-widgets/controls",
            "_model_module_version": "1.5.0",
            "_model_name": "FloatProgressModel",
            "_view_count": null,
            "_view_module": "@jupyter-widgets/controls",
            "_view_module_version": "1.5.0",
            "_view_name": "ProgressView",
            "bar_style": "success",
            "description": "",
            "description_tooltip": null,
            "layout": "IPY_MODEL_7794cb483b3643b5adb5b09fa99276bd",
            "max": 267832558,
            "min": 0,
            "orientation": "horizontal",
            "style": "IPY_MODEL_1518fde281be4a61a3d77e35e3c9a1ae",
            "value": 267832558
          }
        },
        "65820329de814999a0635876a0553fc9": {
          "model_module": "@jupyter-widgets/controls",
          "model_name": "HTMLModel",
          "model_module_version": "1.5.0",
          "state": {
            "_dom_classes": [],
            "_model_module": "@jupyter-widgets/controls",
            "_model_module_version": "1.5.0",
            "_model_name": "HTMLModel",
            "_view_count": null,
            "_view_module": "@jupyter-widgets/controls",
            "_view_module_version": "1.5.0",
            "_view_name": "HTMLView",
            "description": "",
            "description_tooltip": null,
            "layout": "IPY_MODEL_ce78ee8ed97341c7b666f4971800f452",
            "placeholder": "​",
            "style": "IPY_MODEL_6972587996784331a519e1dc8488d5d8",
            "value": " 268M/268M [00:00&lt;00:00, 455MB/s]"
          }
        },
        "351e653a854c488ab3e79c1fa0e60d13": {
          "model_module": "@jupyter-widgets/base",
          "model_name": "LayoutModel",
          "model_module_version": "1.2.0",
          "state": {
            "_model_module": "@jupyter-widgets/base",
            "_model_module_version": "1.2.0",
            "_model_name": "LayoutModel",
            "_view_count": null,
            "_view_module": "@jupyter-widgets/base",
            "_view_module_version": "1.2.0",
            "_view_name": "LayoutView",
            "align_content": null,
            "align_items": null,
            "align_self": null,
            "border": null,
            "bottom": null,
            "display": null,
            "flex": null,
            "flex_flow": null,
            "grid_area": null,
            "grid_auto_columns": null,
            "grid_auto_flow": null,
            "grid_auto_rows": null,
            "grid_column": null,
            "grid_gap": null,
            "grid_row": null,
            "grid_template_areas": null,
            "grid_template_columns": null,
            "grid_template_rows": null,
            "height": null,
            "justify_content": null,
            "justify_items": null,
            "left": null,
            "margin": null,
            "max_height": null,
            "max_width": null,
            "min_height": null,
            "min_width": null,
            "object_fit": null,
            "object_position": null,
            "order": null,
            "overflow": null,
            "overflow_x": null,
            "overflow_y": null,
            "padding": null,
            "right": null,
            "top": null,
            "visibility": null,
            "width": null
          }
        },
        "7f002edee96e4b958662e49c67949494": {
          "model_module": "@jupyter-widgets/base",
          "model_name": "LayoutModel",
          "model_module_version": "1.2.0",
          "state": {
            "_model_module": "@jupyter-widgets/base",
            "_model_module_version": "1.2.0",
            "_model_name": "LayoutModel",
            "_view_count": null,
            "_view_module": "@jupyter-widgets/base",
            "_view_module_version": "1.2.0",
            "_view_name": "LayoutView",
            "align_content": null,
            "align_items": null,
            "align_self": null,
            "border": null,
            "bottom": null,
            "display": null,
            "flex": null,
            "flex_flow": null,
            "grid_area": null,
            "grid_auto_columns": null,
            "grid_auto_flow": null,
            "grid_auto_rows": null,
            "grid_column": null,
            "grid_gap": null,
            "grid_row": null,
            "grid_template_areas": null,
            "grid_template_columns": null,
            "grid_template_rows": null,
            "height": null,
            "justify_content": null,
            "justify_items": null,
            "left": null,
            "margin": null,
            "max_height": null,
            "max_width": null,
            "min_height": null,
            "min_width": null,
            "object_fit": null,
            "object_position": null,
            "order": null,
            "overflow": null,
            "overflow_x": null,
            "overflow_y": null,
            "padding": null,
            "right": null,
            "top": null,
            "visibility": null,
            "width": null
          }
        },
        "925c56bd7d784d78bb61d1c087349bfd": {
          "model_module": "@jupyter-widgets/controls",
          "model_name": "DescriptionStyleModel",
          "model_module_version": "1.5.0",
          "state": {
            "_model_module": "@jupyter-widgets/controls",
            "_model_module_version": "1.5.0",
            "_model_name": "DescriptionStyleModel",
            "_view_count": null,
            "_view_module": "@jupyter-widgets/base",
            "_view_module_version": "1.2.0",
            "_view_name": "StyleView",
            "description_width": ""
          }
        },
        "7794cb483b3643b5adb5b09fa99276bd": {
          "model_module": "@jupyter-widgets/base",
          "model_name": "LayoutModel",
          "model_module_version": "1.2.0",
          "state": {
            "_model_module": "@jupyter-widgets/base",
            "_model_module_version": "1.2.0",
            "_model_name": "LayoutModel",
            "_view_count": null,
            "_view_module": "@jupyter-widgets/base",
            "_view_module_version": "1.2.0",
            "_view_name": "LayoutView",
            "align_content": null,
            "align_items": null,
            "align_self": null,
            "border": null,
            "bottom": null,
            "display": null,
            "flex": null,
            "flex_flow": null,
            "grid_area": null,
            "grid_auto_columns": null,
            "grid_auto_flow": null,
            "grid_auto_rows": null,
            "grid_column": null,
            "grid_gap": null,
            "grid_row": null,
            "grid_template_areas": null,
            "grid_template_columns": null,
            "grid_template_rows": null,
            "height": null,
            "justify_content": null,
            "justify_items": null,
            "left": null,
            "margin": null,
            "max_height": null,
            "max_width": null,
            "min_height": null,
            "min_width": null,
            "object_fit": null,
            "object_position": null,
            "order": null,
            "overflow": null,
            "overflow_x": null,
            "overflow_y": null,
            "padding": null,
            "right": null,
            "top": null,
            "visibility": null,
            "width": null
          }
        },
        "1518fde281be4a61a3d77e35e3c9a1ae": {
          "model_module": "@jupyter-widgets/controls",
          "model_name": "ProgressStyleModel",
          "model_module_version": "1.5.0",
          "state": {
            "_model_module": "@jupyter-widgets/controls",
            "_model_module_version": "1.5.0",
            "_model_name": "ProgressStyleModel",
            "_view_count": null,
            "_view_module": "@jupyter-widgets/base",
            "_view_module_version": "1.2.0",
            "_view_name": "StyleView",
            "bar_color": null,
            "description_width": ""
          }
        },
        "ce78ee8ed97341c7b666f4971800f452": {
          "model_module": "@jupyter-widgets/base",
          "model_name": "LayoutModel",
          "model_module_version": "1.2.0",
          "state": {
            "_model_module": "@jupyter-widgets/base",
            "_model_module_version": "1.2.0",
            "_model_name": "LayoutModel",
            "_view_count": null,
            "_view_module": "@jupyter-widgets/base",
            "_view_module_version": "1.2.0",
            "_view_name": "LayoutView",
            "align_content": null,
            "align_items": null,
            "align_self": null,
            "border": null,
            "bottom": null,
            "display": null,
            "flex": null,
            "flex_flow": null,
            "grid_area": null,
            "grid_auto_columns": null,
            "grid_auto_flow": null,
            "grid_auto_rows": null,
            "grid_column": null,
            "grid_gap": null,
            "grid_row": null,
            "grid_template_areas": null,
            "grid_template_columns": null,
            "grid_template_rows": null,
            "height": null,
            "justify_content": null,
            "justify_items": null,
            "left": null,
            "margin": null,
            "max_height": null,
            "max_width": null,
            "min_height": null,
            "min_width": null,
            "object_fit": null,
            "object_position": null,
            "order": null,
            "overflow": null,
            "overflow_x": null,
            "overflow_y": null,
            "padding": null,
            "right": null,
            "top": null,
            "visibility": null,
            "width": null
          }
        },
        "6972587996784331a519e1dc8488d5d8": {
          "model_module": "@jupyter-widgets/controls",
          "model_name": "DescriptionStyleModel",
          "model_module_version": "1.5.0",
          "state": {
            "_model_module": "@jupyter-widgets/controls",
            "_model_module_version": "1.5.0",
            "_model_name": "DescriptionStyleModel",
            "_view_count": null,
            "_view_module": "@jupyter-widgets/base",
            "_view_module_version": "1.2.0",
            "_view_name": "StyleView",
            "description_width": ""
          }
        }
      }
    }
  },
  "nbformat": 4,
  "nbformat_minor": 0
}